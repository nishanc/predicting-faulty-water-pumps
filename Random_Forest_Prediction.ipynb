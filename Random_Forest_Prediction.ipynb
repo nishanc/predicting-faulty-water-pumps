{
 "cells": [
  {
   "cell_type": "code",
   "execution_count": 3,
   "metadata": {},
   "outputs": [],
   "source": [
    "import pandas as pd\n",
    "import numpy as np\n",
    "import matplotlib.pyplot as plt\n",
    "import seaborn\n",
    "import scipy as sp\n",
    "import matplotlib as mpl\n",
    "import seaborn as sns\n",
    "\n",
    "# Setting up Pandas\n",
    "pd.set_option('display.width', 500)\n",
    "pd.set_option('display.max_columns', 100)\n",
    "\n",
    "# Setting up Seaborn\n",
    "sns.set_style(\"whitegrid\")\n",
    "#sns.set_context(\"poster\")\n",
    "\n",
    "%matplotlib inline"
   ]
  },
  {
   "cell_type": "code",
   "execution_count": 4,
   "metadata": {},
   "outputs": [],
   "source": [
    "train = pd.read_csv('training_data.csv')\n",
    "test = pd.read_csv('test_data.csv')"
   ]
  },
  {
   "cell_type": "code",
   "execution_count": 3,
   "metadata": {},
   "outputs": [],
   "source": [
    "training = train.drop('status_group', axis=1)"
   ]
  },
  {
   "cell_type": "code",
   "execution_count": 4,
   "metadata": {},
   "outputs": [],
   "source": [
    "training = training.drop('Unnamed: 0', axis=1)\n",
    "\n",
    "test = test.drop('Unnamed: 0', axis=1)"
   ]
  },
  {
   "cell_type": "code",
   "execution_count": 5,
   "metadata": {},
   "outputs": [],
   "source": [
    "##Plot function for Confusion Matrix\n",
    "\n",
    "#plt.rcParams['figure.figsize'] = (6.0, 6.0)\n",
    "from sklearn.metrics import confusion_matrix\n",
    "labels=['functional','functional needs repair','non functional']\n",
    "def plot_confusion_matrix(cm, title='Confusion matrix', cmap=plt.cm.YlOrRd):\n",
    "    plt.imshow(cm, interpolation='nearest', cmap=cmap)\n",
    "    plt.title(title)\n",
    "    plt.colorbar(shrink=0.7)\n",
    "    tick_marks = np.arange(len(labels))\n",
    "    plt.xticks(tick_marks, labels, rotation=45, ha='right', fontsize=12)\n",
    "    plt.yticks(tick_marks, labels , fontsize=12)\n",
    "    plt.tight_layout()\n",
    "    plt.ylabel('True label', fontsize=12)\n",
    "    plt.xlabel('Predicted label', fontsize=12)"
   ]
  },
  {
   "cell_type": "markdown",
   "metadata": {},
   "source": [
    "## Because we are having maximum amount of Categorical data let us transform the features, and convert them into list"
   ]
  },
  {
   "cell_type": "code",
   "execution_count": 6,
   "metadata": {},
   "outputs": [],
   "source": [
    "def transform_feature(df, column_name):\n",
    "    unique_values = set(df[column_name].tolist())\n",
    "    transformer_dict = {}\n",
    "    for index, value in enumerate(unique_values):\n",
    "        transformer_dict[value] = index\n",
    "    df[column_name] = df[column_name].apply(lambda y: transformer_dict[y])\n",
    "    return df"
   ]
  },
  {
   "cell_type": "code",
   "execution_count": 7,
   "metadata": {},
   "outputs": [],
   "source": [
    "integer_columns = ['days_since_recorded', 'population','gps_height'] \n",
    "columns_to_transform = [col for col in training.columns if col not in integer_columns]\n",
    "for column in columns_to_transform: \n",
    "    training = transform_feature(training, column)\n",
    "    test = transform_feature(test, column)"
   ]
  },
  {
   "cell_type": "markdown",
   "metadata": {},
   "source": [
    "## Now That we have Cleaned our dataset and Transformed our features, let us train our Model."
   ]
  },
  {
   "cell_type": "code",
   "execution_count": 8,
   "metadata": {},
   "outputs": [],
   "source": [
    "## Converting the Training dataframe into a matrix and predictor as y \n",
    "X = training.as_matrix()\n",
    "y = train[\"status_group\"].tolist()"
   ]
  },
  {
   "cell_type": "markdown",
   "metadata": {},
   "source": [
    "> Splitting the Data Set with features into Train set  and Test set to train our model."
   ]
  },
  {
   "cell_type": "code",
   "execution_count": 9,
   "metadata": {},
   "outputs": [],
   "source": [
    "import sklearn.model_selection \n",
    "X_train, X_test, y_train, y_test = sklearn.model_selection.train_test_split(X, \n",
    "                                                                             y, \n",
    "                                                                             test_size = 0.3, \n",
    "                                                                             random_state = 0)"
   ]
  },
  {
   "cell_type": "markdown",
   "metadata": {},
   "source": [
    "> As a part of EDA let us traing the data using different algorithms and findout which give us the better result."
   ]
  },
  {
   "cell_type": "markdown",
   "metadata": {},
   "source": [
    "The goal of ensemble methods is to combine the predictions of several base estimators built with a given learning algorithm in order to improve generalizability/robustness over a single estimator."
   ]
  },
  {
   "cell_type": "markdown",
   "metadata": {},
   "source": [
    "## Random Forest Classifier"
   ]
  },
  {
   "cell_type": "code",
   "execution_count": 10,
   "metadata": {},
   "outputs": [],
   "source": [
    "import sklearn.ensemble\n",
    "\n",
    "rfc = sklearn.ensemble.RandomForestClassifier(n_estimators=1000, \n",
    "                                              min_samples_split=5,\n",
    "                                              criterion='gini', \n",
    "                                              max_features='auto',\n",
    "                                              oob_score=True,\n",
    "                                              random_state=1,\n",
    "                                              n_jobs=-1)"
   ]
  },
  {
   "cell_type": "code",
   "execution_count": 11,
   "metadata": {},
   "outputs": [
    {
     "name": "stdout",
     "output_type": "stream",
     "text": [
      "Random Forest Classifier Train Accuracy Score : 0.9527417027417028\n",
      "Random Forest Classifier Test Score : 0.8060044893378226\n"
     ]
    }
   ],
   "source": [
    "rfc.fit(X_train, y_train)\n",
    "\n",
    "print('Random Forest Classifier Train Accuracy Score :', rfc.score(X_train, y_train))\n",
    "print('Random Forest Classifier Test Score :', rfc.score(X_test, y_test))"
   ]
  },
  {
   "cell_type": "code",
   "execution_count": 12,
   "metadata": {},
   "outputs": [
    {
     "name": "stdout",
     "output_type": "stream",
     "text": [
      "[0.04015564 0.10704023 0.03038296 0.08148372 0.02448368 0.03665053\n",
      " 0.10439463 0.05522831 0.01385804 0.02733839 0.04705411 0.01665736\n",
      " 0.04840082 0.05123817 0.03341502 0.01447554 0.15761118 0.02379459\n",
      " 0.00924012 0.04415619 0.03294078]\n"
     ]
    }
   ],
   "source": [
    "print(rfc.feature_importances_)"
   ]
  },
  {
   "cell_type": "code",
   "execution_count": 13,
   "metadata": {
    "scrolled": false
   },
   "outputs": [
    {
     "data": {
      "text/plain": [
       "Text(0,0.5,'Importance')"
      ]
     },
     "execution_count": 13,
     "metadata": {},
     "output_type": "execute_result"
    },
    {
     "data": {
      "image/png": "[encoded data removed]",
      "text/plain": [
       "<matplotlib.figure.Figure at 0x250807eebe0>"
      ]
     },
     "metadata": {},
     "output_type": "display_data"
    }
   ],
   "source": [
    "importance = rfc.feature_importances_\n",
    "importance = pd.DataFrame(importance, index=training.columns, \n",
    "                          columns=[\"Importance\"])\n",
    "\n",
    "importance[\"Std\"] = np.std([tree.feature_importances_ \n",
    "                            for tree in rfc.estimators_], axis=0)\n",
    "\n",
    "x = range(importance.shape[0])\n",
    "y = importance.iloc[:, 0]\n",
    "yerr = importance.iloc[:, 1]\n",
    "lables = list(training.columns.values)\n",
    "\n",
    "\n",
    "\n",
    "ax = plt.bar(x, y, yerr=yerr ,align=\"center\")\n",
    "plt.xlabel('Features', fontsize = 12)\n",
    "plt.ylabel('Importance', fontsize = 12)\n",
    "\n",
    "#plt.show()"
   ]
  },
  {
   "cell_type": "code",
   "execution_count": 14,
   "metadata": {
    "scrolled": false
   },
   "outputs": [
    {
     "data": {
      "text/html": [
       "<div>\n",
       "<style scoped>\n",
       "    .dataframe tbody tr th:only-of-type {\n",
       "        vertical-align: middle;\n",
       "    }\n",
       "\n",
       "    .dataframe tbody tr th {\n",
       "        vertical-align: top;\n",
       "    }\n",
       "\n",
       "    .dataframe thead th {\n",
       "        text-align: right;\n",
       "    }\n",
       "</style>\n",
       "<table border=\"1\" class=\"dataframe\">\n",
       "  <thead>\n",
       "    <tr style=\"text-align: right;\">\n",
       "      <th></th>\n",
       "      <th>amount_tsh</th>\n",
       "      <th>days_since_recorded</th>\n",
       "      <th>funder</th>\n",
       "      <th>gps_height</th>\n",
       "      <th>installer</th>\n",
       "      <th>basin</th>\n",
       "      <th>subvillage</th>\n",
       "      <th>population</th>\n",
       "      <th>public_meeting</th>\n",
       "      <th>scheme_management</th>\n",
       "      <th>scheme_name</th>\n",
       "      <th>permit</th>\n",
       "      <th>construction_year</th>\n",
       "      <th>extraction_type</th>\n",
       "      <th>payment_type</th>\n",
       "      <th>water_quality</th>\n",
       "      <th>quantity_group</th>\n",
       "      <th>source_type</th>\n",
       "      <th>source_class</th>\n",
       "      <th>waterpoint_type</th>\n",
       "      <th>waterpoint_type_group</th>\n",
       "    </tr>\n",
       "  </thead>\n",
       "  <tbody>\n",
       "    <tr>\n",
       "      <th>0</th>\n",
       "      <td>0</td>\n",
       "      <td>302</td>\n",
       "      <td>0</td>\n",
       "      <td>1996</td>\n",
       "      <td>0</td>\n",
       "      <td>1</td>\n",
       "      <td>3638</td>\n",
       "      <td>321</td>\n",
       "      <td>2</td>\n",
       "      <td>5</td>\n",
       "      <td>0</td>\n",
       "      <td>2</td>\n",
       "      <td>0</td>\n",
       "      <td>0</td>\n",
       "      <td>5</td>\n",
       "      <td>6</td>\n",
       "      <td>4</td>\n",
       "      <td>1</td>\n",
       "      <td>0</td>\n",
       "      <td>3</td>\n",
       "      <td>2</td>\n",
       "    </tr>\n",
       "    <tr>\n",
       "      <th>1</th>\n",
       "      <td>0</td>\n",
       "      <td>302</td>\n",
       "      <td>9</td>\n",
       "      <td>1569</td>\n",
       "      <td>7</td>\n",
       "      <td>2</td>\n",
       "      <td>2593</td>\n",
       "      <td>300</td>\n",
       "      <td>2</td>\n",
       "      <td>0</td>\n",
       "      <td>879</td>\n",
       "      <td>2</td>\n",
       "      <td>1</td>\n",
       "      <td>7</td>\n",
       "      <td>5</td>\n",
       "      <td>6</td>\n",
       "      <td>2</td>\n",
       "      <td>3</td>\n",
       "      <td>2</td>\n",
       "      <td>4</td>\n",
       "      <td>3</td>\n",
       "    </tr>\n",
       "    <tr>\n",
       "      <th>2</th>\n",
       "      <td>0</td>\n",
       "      <td>305</td>\n",
       "      <td>0</td>\n",
       "      <td>1567</td>\n",
       "      <td>0</td>\n",
       "      <td>1</td>\n",
       "      <td>4284</td>\n",
       "      <td>500</td>\n",
       "      <td>2</td>\n",
       "      <td>0</td>\n",
       "      <td>1651</td>\n",
       "      <td>1</td>\n",
       "      <td>0</td>\n",
       "      <td>0</td>\n",
       "      <td>5</td>\n",
       "      <td>6</td>\n",
       "      <td>2</td>\n",
       "      <td>1</td>\n",
       "      <td>0</td>\n",
       "      <td>3</td>\n",
       "      <td>2</td>\n",
       "    </tr>\n",
       "    <tr>\n",
       "      <th>3</th>\n",
       "      <td>0</td>\n",
       "      <td>315</td>\n",
       "      <td>0</td>\n",
       "      <td>267</td>\n",
       "      <td>0</td>\n",
       "      <td>6</td>\n",
       "      <td>6516</td>\n",
       "      <td>250</td>\n",
       "      <td>1</td>\n",
       "      <td>0</td>\n",
       "      <td>0</td>\n",
       "      <td>2</td>\n",
       "      <td>4</td>\n",
       "      <td>0</td>\n",
       "      <td>2</td>\n",
       "      <td>6</td>\n",
       "      <td>0</td>\n",
       "      <td>2</td>\n",
       "      <td>2</td>\n",
       "      <td>3</td>\n",
       "      <td>2</td>\n",
       "    </tr>\n",
       "    <tr>\n",
       "      <th>4</th>\n",
       "      <td>65</td>\n",
       "      <td>251</td>\n",
       "      <td>0</td>\n",
       "      <td>1260</td>\n",
       "      <td>0</td>\n",
       "      <td>6</td>\n",
       "      <td>8277</td>\n",
       "      <td>60</td>\n",
       "      <td>1</td>\n",
       "      <td>3</td>\n",
       "      <td>965</td>\n",
       "      <td>2</td>\n",
       "      <td>1</td>\n",
       "      <td>7</td>\n",
       "      <td>1</td>\n",
       "      <td>6</td>\n",
       "      <td>3</td>\n",
       "      <td>3</td>\n",
       "      <td>2</td>\n",
       "      <td>4</td>\n",
       "      <td>3</td>\n",
       "    </tr>\n",
       "  </tbody>\n",
       "</table>\n",
       "</div>"
      ],
      "text/plain": [
       "   amount_tsh  days_since_recorded  funder  gps_height  installer  basin  subvillage  population  public_meeting  scheme_management  scheme_name  permit  construction_year  extraction_type  payment_type  water_quality  quantity_group  source_type  source_class  waterpoint_type  waterpoint_type_group\n",
       "0           0                  302       0        1996          0      1        3638         321               2                  5            0       2                  0                0             5              6               4            1             0                3                      2\n",
       "1           0                  302       9        1569          7      2        2593         300               2                  0          879       2                  1                7             5              6               2            3             2                4                      3\n",
       "2           0                  305       0        1567          0      1        4284         500               2                  0         1651       1                  0                0             5              6               2            1             0                3                      2\n",
       "3           0                  315       0         267          0      6        6516         250               1                  0            0       2                  4                0             2              6               0            2             2                3                      2\n",
       "4          65                  251       0        1260          0      6        8277          60               1                  3          965       2                  1                7             1              6               3            3             2                4                      3"
      ]
     },
     "execution_count": 14,
     "metadata": {},
     "output_type": "execute_result"
    }
   ],
   "source": [
    "test.head()"
   ]
  },
  {
   "cell_type": "code",
   "execution_count": 15,
   "metadata": {},
   "outputs": [
    {
     "data": {
      "text/plain": [
       "['amount_tsh',\n",
       " 'days_since_recorded',\n",
       " 'funder',\n",
       " 'gps_height',\n",
       " 'installer',\n",
       " 'basin',\n",
       " 'subvillage',\n",
       " 'population',\n",
       " 'public_meeting',\n",
       " 'scheme_management',\n",
       " 'scheme_name',\n",
       " 'permit',\n",
       " 'construction_year',\n",
       " 'extraction_type',\n",
       " 'payment_type',\n",
       " 'water_quality',\n",
       " 'quantity_group',\n",
       " 'source_type',\n",
       " 'source_class',\n",
       " 'waterpoint_type',\n",
       " 'waterpoint_type_group']"
      ]
     },
     "execution_count": 15,
     "metadata": {},
     "output_type": "execute_result"
    }
   ],
   "source": [
    "list(training.columns.values)"
   ]
  },
  {
   "cell_type": "code",
   "execution_count": 16,
   "metadata": {},
   "outputs": [],
   "source": [
    "from sklearn.metrics import classification_report"
   ]
  },
  {
   "cell_type": "code",
   "execution_count": 17,
   "metadata": {},
   "outputs": [],
   "source": [
    "predicted = rfc.predict(X_test)"
   ]
  },
  {
   "cell_type": "code",
   "execution_count": 18,
   "metadata": {},
   "outputs": [
    {
     "name": "stdout",
     "output_type": "stream",
     "text": [
      "                         precision    recall  f1-score   support\n",
      "\n",
      "             functional       0.79      0.90      0.84      9612\n",
      "functional needs repair       0.63      0.30      0.40      1333\n",
      "         non functional       0.84      0.77      0.81      6875\n",
      "\n",
      "            avg / total       0.80      0.81      0.80     17820\n",
      "\n"
     ]
    }
   ],
   "source": [
    "report = classification_report(y_test, predicted)\n",
    "print(report)"
   ]
  },
  {
   "cell_type": "code",
   "execution_count": 19,
   "metadata": {
    "scrolled": true
   },
   "outputs": [
    {
     "name": "stdout",
     "output_type": "stream",
     "text": [
      "Confusion matrix\n",
      "[[8673  165  774]\n",
      " [ 734  395  204]\n",
      " [1512   68 5295]]\n"
     ]
    },
    {
     "data": {
      "image/png": "[encoded data removed]",
      "text/plain": [
       "<matplotlib.figure.Figure at 0x250803cd3c8>"
      ]
     },
     "metadata": {},
     "output_type": "display_data"
    }
   ],
   "source": [
    "## Constructing the Confusion Matrix\n",
    "cm = confusion_matrix(y_test, rfc.predict(X_test))\n",
    "np.set_printoptions(precision=2)\n",
    "print('Confusion matrix')\n",
    "print(cm)\n",
    "plt.figure()\n",
    "plot_confusion_matrix(cm)"
   ]
  },
  {
   "cell_type": "code",
   "execution_count": 20,
   "metadata": {},
   "outputs": [],
   "source": [
    "from sklearn.model_selection import cross_val_score  \n",
    "all_accuracies = cross_val_score(estimator=rfc, X=X_train, y=y_train, cv=5)"
   ]
  },
  {
   "cell_type": "code",
   "execution_count": 21,
   "metadata": {},
   "outputs": [
    {
     "name": "stdout",
     "output_type": "stream",
     "text": [
      "[0.8 0.8 0.8 0.8 0.8]\n"
     ]
    }
   ],
   "source": [
    "print(all_accuracies)"
   ]
  },
  {
   "cell_type": "code",
   "execution_count": 22,
   "metadata": {},
   "outputs": [
    {
     "name": "stdout",
     "output_type": "stream",
     "text": [
      "0.8010821435200363\n"
     ]
    }
   ],
   "source": [
    "print(all_accuracies.mean()) "
   ]
  },
  {
   "cell_type": "code",
   "execution_count": 23,
   "metadata": {},
   "outputs": [
    {
     "name": "stdout",
     "output_type": "stream",
     "text": [
      "0.0029234468163992435\n"
     ]
    }
   ],
   "source": [
    "print(all_accuracies.std())  "
   ]
  },
  {
   "cell_type": "code",
   "execution_count": 24,
   "metadata": {},
   "outputs": [],
   "source": [
    "grid_param = {  \n",
    "    'n_estimators': [100, 300, 500, 800, 1000],\n",
    "    'min_samples_split': [5,10,15],\n",
    "    'criterion': ['gini', 'entropy'],\n",
    "    'max_features': ['auto',2,4,6]\n",
    "}"
   ]
  },
  {
   "cell_type": "code",
   "execution_count": 25,
   "metadata": {},
   "outputs": [],
   "source": [
    "from sklearn.model_selection import GridSearchCV"
   ]
  },
  {
   "cell_type": "code",
   "execution_count": 26,
   "metadata": {},
   "outputs": [],
   "source": [
    "gd_sr = GridSearchCV(estimator=rfc,  \n",
    "                     param_grid=grid_param,\n",
    "                     scoring='accuracy',\n",
    "                     cv=5,\n",
    "                     n_jobs=-1)"
   ]
  },
  {
   "cell_type": "code",
   "execution_count": 2,
   "metadata": {},
   "outputs": [
    {
     "ename": "NameError",
     "evalue": "name 'y_train' is not defined",
     "output_type": "error",
     "traceback": [
      "\u001b[1;31m---------------------------------------------------------------------------\u001b[0m",
      "\u001b[1;31mNameError\u001b[0m                                 Traceback (most recent call last)",
      "\u001b[1;32m<ipython-input-2-828e85277386>\u001b[0m in \u001b[0;36m<module>\u001b[1;34m()\u001b[0m\n\u001b[1;32m----> 1\u001b[1;33m \u001b[0my_train\u001b[0m\u001b[1;33m.\u001b[0m\u001b[0mshape\u001b[0m\u001b[1;33m,\u001b[0m \u001b[0mX_train\u001b[0m\u001b[1;33m.\u001b[0m\u001b[0mshape\u001b[0m\u001b[1;33m\u001b[0m\u001b[0m\n\u001b[0m",
      "\u001b[1;31mNameError\u001b[0m: name 'y_train' is not defined"
     ]
    }
   ],
   "source": [
    "y_train.shape, X_train.shape"
   ]
  },
  {
   "cell_type": "code",
   "execution_count": 27,
   "metadata": {
    "scrolled": false
   },
   "outputs": [
    {
     "ename": "JoblibValueError",
     "evalue": "JoblibValueError\n___________________________________________________________________________\nMultiprocessing exception:\n...........................................................................\nC:\\ProgramData\\Anaconda3\\lib\\runpy.py in _run_module_as_main(mod_name='ipykernel_launcher', alter_argv=1)\n    188         sys.exit(msg)\n    189     main_globals = sys.modules[\"__main__\"].__dict__\n    190     if alter_argv:\n    191         sys.argv[0] = mod_spec.origin\n    192     return _run_code(code, main_globals, None,\n--> 193                      \"__main__\", mod_spec)\n        mod_spec = ModuleSpec(name='ipykernel_launcher', loader=<_f...nda3\\\\lib\\\\site-packages\\\\ipykernel_launcher.py')\n    194 \n    195 def run_module(mod_name, init_globals=None,\n    196                run_name=None, alter_sys=False):\n    197     \"\"\"Execute a module's code without importing it\n\n...........................................................................\nC:\\ProgramData\\Anaconda3\\lib\\runpy.py in _run_code(code=<code object <module> at 0x00000250F6279ED0, fil...lib\\site-packages\\ipykernel_launcher.py\", line 5>, run_globals={'__annotations__': {}, '__builtins__': <module 'builtins' (built-in)>, '__cached__': r'C:\\ProgramData\\Anaconda3\\lib\\site-packages\\__pycache__\\ipykernel_launcher.cpython-36.pyc', '__doc__': 'Entry point for launching an IPython kernel.\\n\\nTh...orts until\\nafter removing the cwd from sys.path.\\n', '__file__': r'C:\\ProgramData\\Anaconda3\\lib\\site-packages\\ipykernel_launcher.py', '__loader__': <_frozen_importlib_external.SourceFileLoader object>, '__name__': '__main__', '__package__': '', '__spec__': ModuleSpec(name='ipykernel_launcher', loader=<_f...nda3\\\\lib\\\\site-packages\\\\ipykernel_launcher.py'), 'app': <module 'ipykernel.kernelapp' from 'C:\\\\ProgramD...a3\\\\lib\\\\site-packages\\\\ipykernel\\\\kernelapp.py'>, ...}, init_globals=None, mod_name='__main__', mod_spec=ModuleSpec(name='ipykernel_launcher', loader=<_f...nda3\\\\lib\\\\site-packages\\\\ipykernel_launcher.py'), pkg_name='', script_name=None)\n     80                        __cached__ = cached,\n     81                        __doc__ = None,\n     82                        __loader__ = loader,\n     83                        __package__ = pkg_name,\n     84                        __spec__ = mod_spec)\n---> 85     exec(code, run_globals)\n        code = <code object <module> at 0x00000250F6279ED0, fil...lib\\site-packages\\ipykernel_launcher.py\", line 5>\n        run_globals = {'__annotations__': {}, '__builtins__': <module 'builtins' (built-in)>, '__cached__': r'C:\\ProgramData\\Anaconda3\\lib\\site-packages\\__pycache__\\ipykernel_launcher.cpython-36.pyc', '__doc__': 'Entry point for launching an IPython kernel.\\n\\nTh...orts until\\nafter removing the cwd from sys.path.\\n', '__file__': r'C:\\ProgramData\\Anaconda3\\lib\\site-packages\\ipykernel_launcher.py', '__loader__': <_frozen_importlib_external.SourceFileLoader object>, '__name__': '__main__', '__package__': '', '__spec__': ModuleSpec(name='ipykernel_launcher', loader=<_f...nda3\\\\lib\\\\site-packages\\\\ipykernel_launcher.py'), 'app': <module 'ipykernel.kernelapp' from 'C:\\\\ProgramD...a3\\\\lib\\\\site-packages\\\\ipykernel\\\\kernelapp.py'>, ...}\n     86     return run_globals\n     87 \n     88 def _run_module_code(code, init_globals=None,\n     89                     mod_name=None, mod_spec=None,\n\n...........................................................................\nC:\\ProgramData\\Anaconda3\\lib\\site-packages\\ipykernel_launcher.py in <module>()\n     11     # This is added back by InteractiveShellApp.init_path()\n     12     if sys.path[0] == '':\n     13         del sys.path[0]\n     14 \n     15     from ipykernel import kernelapp as app\n---> 16     app.launch_new_instance()\n\n...........................................................................\nC:\\ProgramData\\Anaconda3\\lib\\site-packages\\traitlets\\config\\application.py in launch_instance(cls=<class 'ipykernel.kernelapp.IPKernelApp'>, argv=None, **kwargs={})\n    653 \n    654         If a global instance already exists, this reinitializes and starts it\n    655         \"\"\"\n    656         app = cls.instance(**kwargs)\n    657         app.initialize(argv)\n--> 658         app.start()\n        app.start = <bound method IPKernelApp.start of <ipykernel.kernelapp.IPKernelApp object>>\n    659 \n    660 #-----------------------------------------------------------------------------\n    661 # utility functions, for convenience\n    662 #-----------------------------------------------------------------------------\n\n...........................................................................\nC:\\ProgramData\\Anaconda3\\lib\\site-packages\\ipykernel\\kernelapp.py in start(self=<ipykernel.kernelapp.IPKernelApp object>)\n    473         if self.poller is not None:\n    474             self.poller.start()\n    475         self.kernel.start()\n    476         self.io_loop = ioloop.IOLoop.current()\n    477         try:\n--> 478             self.io_loop.start()\n        self.io_loop.start = <bound method ZMQIOLoop.start of <zmq.eventloop.ioloop.ZMQIOLoop object>>\n    479         except KeyboardInterrupt:\n    480             pass\n    481 \n    482 launch_new_instance = IPKernelApp.launch_instance\n\n...........................................................................\nC:\\ProgramData\\Anaconda3\\lib\\site-packages\\zmq\\eventloop\\ioloop.py in start(self=<zmq.eventloop.ioloop.ZMQIOLoop object>)\n    172             )\n    173         return loop\n    174     \n    175     def start(self):\n    176         try:\n--> 177             super(ZMQIOLoop, self).start()\n        self.start = <bound method ZMQIOLoop.start of <zmq.eventloop.ioloop.ZMQIOLoop object>>\n    178         except ZMQError as e:\n    179             if e.errno == ETERM:\n    180                 # quietly return on ETERM\n    181                 pass\n\n...........................................................................\nC:\\ProgramData\\Anaconda3\\lib\\site-packages\\tornado\\ioloop.py in start(self=<zmq.eventloop.ioloop.ZMQIOLoop object>)\n    883                 self._events.update(event_pairs)\n    884                 while self._events:\n    885                     fd, events = self._events.popitem()\n    886                     try:\n    887                         fd_obj, handler_func = self._handlers[fd]\n--> 888                         handler_func(fd_obj, events)\n        handler_func = <function wrap.<locals>.null_wrapper>\n        fd_obj = <zmq.sugar.socket.Socket object>\n        events = 5\n    889                     except (OSError, IOError) as e:\n    890                         if errno_from_exception(e) == errno.EPIPE:\n    891                             # Happens when the client closes the connection\n    892                             pass\n\n...........................................................................\nC:\\ProgramData\\Anaconda3\\lib\\site-packages\\tornado\\stack_context.py in null_wrapper(*args=(<zmq.sugar.socket.Socket object>, 5), **kwargs={})\n    272         # Fast path when there are no active contexts.\n    273         def null_wrapper(*args, **kwargs):\n    274             try:\n    275                 current_state = _state.contexts\n    276                 _state.contexts = cap_contexts[0]\n--> 277                 return fn(*args, **kwargs)\n        args = (<zmq.sugar.socket.Socket object>, 5)\n        kwargs = {}\n    278             finally:\n    279                 _state.contexts = current_state\n    280         null_wrapper._wrapped = True\n    281         return null_wrapper\n\n...........................................................................\nC:\\ProgramData\\Anaconda3\\lib\\site-packages\\zmq\\eventloop\\zmqstream.py in _handle_events(self=<zmq.eventloop.zmqstream.ZMQStream object>, fd=<zmq.sugar.socket.Socket object>, events=5)\n    435             # dispatch events:\n    436             if events & IOLoop.ERROR:\n    437                 gen_log.error(\"got POLLERR event on ZMQStream, which doesn't make sense\")\n    438                 return\n    439             if events & IOLoop.READ:\n--> 440                 self._handle_recv()\n        self._handle_recv = <bound method ZMQStream._handle_recv of <zmq.eventloop.zmqstream.ZMQStream object>>\n    441                 if not self.socket:\n    442                     return\n    443             if events & IOLoop.WRITE:\n    444                 self._handle_send()\n\n...........................................................................\nC:\\ProgramData\\Anaconda3\\lib\\site-packages\\zmq\\eventloop\\zmqstream.py in _handle_recv(self=<zmq.eventloop.zmqstream.ZMQStream object>)\n    467                 gen_log.error(\"RECV Error: %s\"%zmq.strerror(e.errno))\n    468         else:\n    469             if self._recv_callback:\n    470                 callback = self._recv_callback\n    471                 # self._recv_callback = None\n--> 472                 self._run_callback(callback, msg)\n        self._run_callback = <bound method ZMQStream._run_callback of <zmq.eventloop.zmqstream.ZMQStream object>>\n        callback = <function wrap.<locals>.null_wrapper>\n        msg = [<zmq.sugar.frame.Frame object>, <zmq.sugar.frame.Frame object>, <zmq.sugar.frame.Frame object>, <zmq.sugar.frame.Frame object>, <zmq.sugar.frame.Frame object>, <zmq.sugar.frame.Frame object>, <zmq.sugar.frame.Frame object>]\n    473                 \n    474         # self.update_state()\n    475         \n    476 \n\n...........................................................................\nC:\\ProgramData\\Anaconda3\\lib\\site-packages\\zmq\\eventloop\\zmqstream.py in _run_callback(self=<zmq.eventloop.zmqstream.ZMQStream object>, callback=<function wrap.<locals>.null_wrapper>, *args=([<zmq.sugar.frame.Frame object>, <zmq.sugar.frame.Frame object>, <zmq.sugar.frame.Frame object>, <zmq.sugar.frame.Frame object>, <zmq.sugar.frame.Frame object>, <zmq.sugar.frame.Frame object>, <zmq.sugar.frame.Frame object>],), **kwargs={})\n    409         close our socket.\"\"\"\n    410         try:\n    411             # Use a NullContext to ensure that all StackContexts are run\n    412             # inside our blanket exception handler rather than outside.\n    413             with stack_context.NullContext():\n--> 414                 callback(*args, **kwargs)\n        callback = <function wrap.<locals>.null_wrapper>\n        args = ([<zmq.sugar.frame.Frame object>, <zmq.sugar.frame.Frame object>, <zmq.sugar.frame.Frame object>, <zmq.sugar.frame.Frame object>, <zmq.sugar.frame.Frame object>, <zmq.sugar.frame.Frame object>, <zmq.sugar.frame.Frame object>],)\n        kwargs = {}\n    415         except:\n    416             gen_log.error(\"Uncaught exception, closing connection.\",\n    417                           exc_info=True)\n    418             # Close the socket on an uncaught exception from a user callback\n\n...........................................................................\nC:\\ProgramData\\Anaconda3\\lib\\site-packages\\tornado\\stack_context.py in null_wrapper(*args=([<zmq.sugar.frame.Frame object>, <zmq.sugar.frame.Frame object>, <zmq.sugar.frame.Frame object>, <zmq.sugar.frame.Frame object>, <zmq.sugar.frame.Frame object>, <zmq.sugar.frame.Frame object>, <zmq.sugar.frame.Frame object>],), **kwargs={})\n    272         # Fast path when there are no active contexts.\n    273         def null_wrapper(*args, **kwargs):\n    274             try:\n    275                 current_state = _state.contexts\n    276                 _state.contexts = cap_contexts[0]\n--> 277                 return fn(*args, **kwargs)\n        args = ([<zmq.sugar.frame.Frame object>, <zmq.sugar.frame.Frame object>, <zmq.sugar.frame.Frame object>, <zmq.sugar.frame.Frame object>, <zmq.sugar.frame.Frame object>, <zmq.sugar.frame.Frame object>, <zmq.sugar.frame.Frame object>],)\n        kwargs = {}\n    278             finally:\n    279                 _state.contexts = current_state\n    280         null_wrapper._wrapped = True\n    281         return null_wrapper\n\n...........................................................................\nC:\\ProgramData\\Anaconda3\\lib\\site-packages\\ipykernel\\kernelbase.py in dispatcher(msg=[<zmq.sugar.frame.Frame object>, <zmq.sugar.frame.Frame object>, <zmq.sugar.frame.Frame object>, <zmq.sugar.frame.Frame object>, <zmq.sugar.frame.Frame object>, <zmq.sugar.frame.Frame object>, <zmq.sugar.frame.Frame object>])\n    278         if self.control_stream:\n    279             self.control_stream.on_recv(self.dispatch_control, copy=False)\n    280 \n    281         def make_dispatcher(stream):\n    282             def dispatcher(msg):\n--> 283                 return self.dispatch_shell(stream, msg)\n        msg = [<zmq.sugar.frame.Frame object>, <zmq.sugar.frame.Frame object>, <zmq.sugar.frame.Frame object>, <zmq.sugar.frame.Frame object>, <zmq.sugar.frame.Frame object>, <zmq.sugar.frame.Frame object>, <zmq.sugar.frame.Frame object>]\n    284             return dispatcher\n    285 \n    286         for s in self.shell_streams:\n    287             s.on_recv(make_dispatcher(s), copy=False)\n\n...........................................................................\nC:\\ProgramData\\Anaconda3\\lib\\site-packages\\ipykernel\\kernelbase.py in dispatch_shell(self=<ipykernel.ipkernel.IPythonKernel object>, stream=<zmq.eventloop.zmqstream.ZMQStream object>, msg={'buffers': [], 'content': {'allow_stdin': True, 'code': 'gd_sr.fit(X_train, y_train)', 'silent': False, 'stop_on_error': True, 'store_history': True, 'user_expressions': {}}, 'header': {'date': datetime.datetime(2019, 6, 26, 17, 24, 10, 314755, tzinfo=tzutc()), 'msg_id': 'fd09f488338f46e792651c3ced92e657', 'msg_type': 'execute_request', 'session': '837547c3ade043c3a45ff7c31c6b9054', 'username': 'username', 'version': '5.2'}, 'metadata': {}, 'msg_id': 'fd09f488338f46e792651c3ced92e657', 'msg_type': 'execute_request', 'parent_header': {}})\n    228             self.log.warn(\"Unknown message type: %r\", msg_type)\n    229         else:\n    230             self.log.debug(\"%s: %s\", msg_type, msg)\n    231             self.pre_handler_hook()\n    232             try:\n--> 233                 handler(stream, idents, msg)\n        handler = <bound method Kernel.execute_request of <ipykernel.ipkernel.IPythonKernel object>>\n        stream = <zmq.eventloop.zmqstream.ZMQStream object>\n        idents = [b'837547c3ade043c3a45ff7c31c6b9054']\n        msg = {'buffers': [], 'content': {'allow_stdin': True, 'code': 'gd_sr.fit(X_train, y_train)', 'silent': False, 'stop_on_error': True, 'store_history': True, 'user_expressions': {}}, 'header': {'date': datetime.datetime(2019, 6, 26, 17, 24, 10, 314755, tzinfo=tzutc()), 'msg_id': 'fd09f488338f46e792651c3ced92e657', 'msg_type': 'execute_request', 'session': '837547c3ade043c3a45ff7c31c6b9054', 'username': 'username', 'version': '5.2'}, 'metadata': {}, 'msg_id': 'fd09f488338f46e792651c3ced92e657', 'msg_type': 'execute_request', 'parent_header': {}}\n    234             except Exception:\n    235                 self.log.error(\"Exception in message handler:\", exc_info=True)\n    236             finally:\n    237                 self.post_handler_hook()\n\n...........................................................................\nC:\\ProgramData\\Anaconda3\\lib\\site-packages\\ipykernel\\kernelbase.py in execute_request(self=<ipykernel.ipkernel.IPythonKernel object>, stream=<zmq.eventloop.zmqstream.ZMQStream object>, ident=[b'837547c3ade043c3a45ff7c31c6b9054'], parent={'buffers': [], 'content': {'allow_stdin': True, 'code': 'gd_sr.fit(X_train, y_train)', 'silent': False, 'stop_on_error': True, 'store_history': True, 'user_expressions': {}}, 'header': {'date': datetime.datetime(2019, 6, 26, 17, 24, 10, 314755, tzinfo=tzutc()), 'msg_id': 'fd09f488338f46e792651c3ced92e657', 'msg_type': 'execute_request', 'session': '837547c3ade043c3a45ff7c31c6b9054', 'username': 'username', 'version': '5.2'}, 'metadata': {}, 'msg_id': 'fd09f488338f46e792651c3ced92e657', 'msg_type': 'execute_request', 'parent_header': {}})\n    394         if not silent:\n    395             self.execution_count += 1\n    396             self._publish_execute_input(code, parent, self.execution_count)\n    397 \n    398         reply_content = self.do_execute(code, silent, store_history,\n--> 399                                         user_expressions, allow_stdin)\n        user_expressions = {}\n        allow_stdin = True\n    400 \n    401         # Flush output before sending the reply.\n    402         sys.stdout.flush()\n    403         sys.stderr.flush()\n\n...........................................................................\nC:\\ProgramData\\Anaconda3\\lib\\site-packages\\ipykernel\\ipkernel.py in do_execute(self=<ipykernel.ipkernel.IPythonKernel object>, code='gd_sr.fit(X_train, y_train)', silent=False, store_history=True, user_expressions={}, allow_stdin=True)\n    203 \n    204         self._forward_input(allow_stdin)\n    205 \n    206         reply_content = {}\n    207         try:\n--> 208             res = shell.run_cell(code, store_history=store_history, silent=silent)\n        res = undefined\n        shell.run_cell = <bound method ZMQInteractiveShell.run_cell of <ipykernel.zmqshell.ZMQInteractiveShell object>>\n        code = 'gd_sr.fit(X_train, y_train)'\n        store_history = True\n        silent = False\n    209         finally:\n    210             self._restore_input()\n    211 \n    212         if res.error_before_exec is not None:\n\n...........................................................................\nC:\\ProgramData\\Anaconda3\\lib\\site-packages\\ipykernel\\zmqshell.py in run_cell(self=<ipykernel.zmqshell.ZMQInteractiveShell object>, *args=('gd_sr.fit(X_train, y_train)',), **kwargs={'silent': False, 'store_history': True})\n    532             )\n    533         self.payload_manager.write_payload(payload)\n    534 \n    535     def run_cell(self, *args, **kwargs):\n    536         self._last_traceback = None\n--> 537         return super(ZMQInteractiveShell, self).run_cell(*args, **kwargs)\n        self.run_cell = <bound method ZMQInteractiveShell.run_cell of <ipykernel.zmqshell.ZMQInteractiveShell object>>\n        args = ('gd_sr.fit(X_train, y_train)',)\n        kwargs = {'silent': False, 'store_history': True}\n    538 \n    539     def _showtraceback(self, etype, evalue, stb):\n    540         # try to preserve ordering of tracebacks and print statements\n    541         sys.stdout.flush()\n\n...........................................................................\nC:\\ProgramData\\Anaconda3\\lib\\site-packages\\IPython\\core\\interactiveshell.py in run_cell(self=<ipykernel.zmqshell.ZMQInteractiveShell object>, raw_cell='gd_sr.fit(X_train, y_train)', store_history=True, silent=False, shell_futures=True)\n   2723                 self.displayhook.exec_result = result\n   2724 \n   2725                 # Execute the user code\n   2726                 interactivity = \"none\" if silent else self.ast_node_interactivity\n   2727                 has_raised = self.run_ast_nodes(code_ast.body, cell_name,\n-> 2728                    interactivity=interactivity, compiler=compiler, result=result)\n        interactivity = 'last_expr'\n        compiler = <IPython.core.compilerop.CachingCompiler object>\n   2729                 \n   2730                 self.last_execution_succeeded = not has_raised\n   2731                 self.last_execution_result = result\n   2732 \n\n...........................................................................\nC:\\ProgramData\\Anaconda3\\lib\\site-packages\\IPython\\core\\interactiveshell.py in run_ast_nodes(self=<ipykernel.zmqshell.ZMQInteractiveShell object>, nodelist=[<_ast.Expr object>], cell_name='<ipython-input-27-0605bf83275a>', interactivity='last', compiler=<IPython.core.compilerop.CachingCompiler object>, result=<ExecutionResult object at 2508041f710, executio..._before_exec=None error_in_exec=None result=None>)\n   2851                     return True\n   2852 \n   2853             for i, node in enumerate(to_run_interactive):\n   2854                 mod = ast.Interactive([node])\n   2855                 code = compiler(mod, cell_name, \"single\")\n-> 2856                 if self.run_code(code, result):\n        self.run_code = <bound method InteractiveShell.run_code of <ipykernel.zmqshell.ZMQInteractiveShell object>>\n        code = <code object <module> at 0x00000250801A2540, file \"<ipython-input-27-0605bf83275a>\", line 1>\n        result = <ExecutionResult object at 2508041f710, executio..._before_exec=None error_in_exec=None result=None>\n   2857                     return True\n   2858 \n   2859             # Flush softspace\n   2860             if softspace(sys.stdout, 0):\n\n...........................................................................\nC:\\ProgramData\\Anaconda3\\lib\\site-packages\\IPython\\core\\interactiveshell.py in run_code(self=<ipykernel.zmqshell.ZMQInteractiveShell object>, code_obj=<code object <module> at 0x00000250801A2540, file \"<ipython-input-27-0605bf83275a>\", line 1>, result=<ExecutionResult object at 2508041f710, executio..._before_exec=None error_in_exec=None result=None>)\n   2905         outflag = True  # happens in more places, so it's easier as default\n   2906         try:\n   2907             try:\n   2908                 self.hooks.pre_run_code_hook()\n   2909                 #rprint('Running code', repr(code_obj)) # dbg\n-> 2910                 exec(code_obj, self.user_global_ns, self.user_ns)\n        code_obj = <code object <module> at 0x00000250801A2540, file \"<ipython-input-27-0605bf83275a>\", line 1>\n        self.user_global_ns = {'GridSearchCV': <class 'sklearn.model_selection._search.GridSearchCV'>, 'In': ['', \"import pandas as pd\\nimport numpy as np\\nimport ma..._ipython().run_line_magic('matplotlib', 'inline')\", \"train = pd.read_csv('training_data.csv')\\ntest = pd.read_csv('test_data.csv')\", \"training = train.drop('status_group', axis=1)\", \"training = training.drop('Unnamed: 0', axis=1)\\n\\ntest = test.drop('Unnamed: 0', axis=1)\", \"##Plot function for Confusion Matrix\\n\\n#plt.rcPar...2)\\n    plt.xlabel('Predicted label', fontsize=12)\", 'def transform_feature(df, column_name):\\n    uniq...pply(lambda y: transformer_dict[y])\\n    return df', \"integer_columns = ['days_since_recorded', 'popul...olumn)\\n    test = transform_feature(test, column)\", '## Converting the Training dataframe into a matr...ng.as_matrix()\\ny = train[\"status_group\"].tolist()', 'import sklearn.model_selection \\nX_train, X_test,...                                random_state = 0)', 'import sklearn.ensemble\\n\\nrfc = sklearn.ensemble....                                       n_jobs=-1)', \"rfc.fit(X_train, y_train)\\n\\nprint('Random Forest ...ssifier Test Score :', rfc.score(X_test, y_test))\", 'print(rfc.feature_importances_)', \"importance = rfc.feature_importances_\\nimportance....ylabel('Importance', fontsize = 12)\\n\\n#plt.show()\", 'test.head()', 'list(training.columns.values)', 'from sklearn.metrics import classification_report', 'predicted = rfc.predict(X_test)', 'report = classification_report(y_test, predicted)\\nprint(report)', '## Constructing the Confusion Matrix\\ncm = confus...\\nprint(cm)\\nplt.figure()\\nplot_confusion_matrix(cm)', ...], 'Out': {13: Text(17.2469,0.5,'Importance'), 14:    amount_tsh  days_since_recorded  funder  gps_...        2                4                      3, 15: ['amount_tsh', 'days_since_recorded', 'funder', 'gps_height', 'installer', 'basin', 'subvillage', 'population', 'public_meeting', 'scheme_management', 'scheme_name', 'permit', 'construction_year', 'extraction_type', 'payment_type', 'water_quality', 'quantity_group', 'source_type', 'source_class', 'waterpoint_type', ...]}, 'X': array([[  77,  995,    0, ...,    2,    4,    3]... 986,    6, ...,    2,    1,    0]], dtype=int64), 'X_test': array([[  0, 966,   0, ...,   2,   4,   3],\n    ...  0, 958,   0, ...,   0,   4,   3]], dtype=int64), 'X_train': array([[   0,  286,    0, ...,    2,    0,    3]...1003,    0, ...,    2,    3,    2]], dtype=int64), '_': ['amount_tsh', 'days_since_recorded', 'funder', 'gps_height', 'installer', 'basin', 'subvillage', 'population', 'public_meeting', 'scheme_management', 'scheme_name', 'permit', 'construction_year', 'extraction_type', 'payment_type', 'water_quality', 'quantity_group', 'source_type', 'source_class', 'waterpoint_type', ...], '_13': Text(17.2469,0.5,'Importance'), '_14':    amount_tsh  days_since_recorded  funder  gps_...        2                4                      3, '_15': ['amount_tsh', 'days_since_recorded', 'funder', 'gps_height', 'installer', 'basin', 'subvillage', 'population', 'public_meeting', 'scheme_management', 'scheme_name', 'permit', 'construction_year', 'extraction_type', 'payment_type', 'water_quality', 'quantity_group', 'source_type', 'source_class', 'waterpoint_type', ...], ...}\n        self.user_ns = {'GridSearchCV': <class 'sklearn.model_selection._search.GridSearchCV'>, 'In': ['', \"import pandas as pd\\nimport numpy as np\\nimport ma..._ipython().run_line_magic('matplotlib', 'inline')\", \"train = pd.read_csv('training_data.csv')\\ntest = pd.read_csv('test_data.csv')\", \"training = train.drop('status_group', axis=1)\", \"training = training.drop('Unnamed: 0', axis=1)\\n\\ntest = test.drop('Unnamed: 0', axis=1)\", \"##Plot function for Confusion Matrix\\n\\n#plt.rcPar...2)\\n    plt.xlabel('Predicted label', fontsize=12)\", 'def transform_feature(df, column_name):\\n    uniq...pply(lambda y: transformer_dict[y])\\n    return df', \"integer_columns = ['days_since_recorded', 'popul...olumn)\\n    test = transform_feature(test, column)\", '## Converting the Training dataframe into a matr...ng.as_matrix()\\ny = train[\"status_group\"].tolist()', 'import sklearn.model_selection \\nX_train, X_test,...                                random_state = 0)', 'import sklearn.ensemble\\n\\nrfc = sklearn.ensemble....                                       n_jobs=-1)', \"rfc.fit(X_train, y_train)\\n\\nprint('Random Forest ...ssifier Test Score :', rfc.score(X_test, y_test))\", 'print(rfc.feature_importances_)', \"importance = rfc.feature_importances_\\nimportance....ylabel('Importance', fontsize = 12)\\n\\n#plt.show()\", 'test.head()', 'list(training.columns.values)', 'from sklearn.metrics import classification_report', 'predicted = rfc.predict(X_test)', 'report = classification_report(y_test, predicted)\\nprint(report)', '## Constructing the Confusion Matrix\\ncm = confus...\\nprint(cm)\\nplt.figure()\\nplot_confusion_matrix(cm)', ...], 'Out': {13: Text(17.2469,0.5,'Importance'), 14:    amount_tsh  days_since_recorded  funder  gps_...        2                4                      3, 15: ['amount_tsh', 'days_since_recorded', 'funder', 'gps_height', 'installer', 'basin', 'subvillage', 'population', 'public_meeting', 'scheme_management', 'scheme_name', 'permit', 'construction_year', 'extraction_type', 'payment_type', 'water_quality', 'quantity_group', 'source_type', 'source_class', 'waterpoint_type', ...]}, 'X': array([[  77,  995,    0, ...,    2,    4,    3]... 986,    6, ...,    2,    1,    0]], dtype=int64), 'X_test': array([[  0, 966,   0, ...,   2,   4,   3],\n    ...  0, 958,   0, ...,   0,   4,   3]], dtype=int64), 'X_train': array([[   0,  286,    0, ...,    2,    0,    3]...1003,    0, ...,    2,    3,    2]], dtype=int64), '_': ['amount_tsh', 'days_since_recorded', 'funder', 'gps_height', 'installer', 'basin', 'subvillage', 'population', 'public_meeting', 'scheme_management', 'scheme_name', 'permit', 'construction_year', 'extraction_type', 'payment_type', 'water_quality', 'quantity_group', 'source_type', 'source_class', 'waterpoint_type', ...], '_13': Text(17.2469,0.5,'Importance'), '_14':    amount_tsh  days_since_recorded  funder  gps_...        2                4                      3, '_15': ['amount_tsh', 'days_since_recorded', 'funder', 'gps_height', 'installer', 'basin', 'subvillage', 'population', 'public_meeting', 'scheme_management', 'scheme_name', 'permit', 'construction_year', 'extraction_type', 'payment_type', 'water_quality', 'quantity_group', 'source_type', 'source_class', 'waterpoint_type', ...], ...}\n   2911             finally:\n   2912                 # Reset our crash handler in place\n   2913                 sys.excepthook = old_excepthook\n   2914         except SystemExit as e:\n\n...........................................................................\nD:\\My Documents\\Academic\\UOM\\L4S1\\Data Mining\\Mini Project\\identifying_faulty_pumps\\<ipython-input-27-0605bf83275a> in <module>()\n----> 1 gd_sr.fit(X_train, y_train)\n\n...........................................................................\nC:\\ProgramData\\Anaconda3\\lib\\site-packages\\sklearn\\model_selection\\_search.py in fit(self=GridSearchCV(cv=5, error_score='raise',\n       e...ore='warn',\n       scoring='accuracy', verbose=0), X=array([[   0,  286,    0, ...,    2,    0,    3]...1003,    0, ...,    2,    3,    2]], dtype=int64), y=['non functional', 'functional', 'functional', 'functional', 'functional', 'functional needs repair', 'functional', 'functional', 'non functional', 'non functional', 'non functional', 'non functional', 'functional', 'functional', 'functional', 'functional', 'non functional', 'functional', 'non functional', 'non functional', ...], groups=None, **fit_params={})\n    634                                   return_train_score=self.return_train_score,\n    635                                   return_n_test_samples=True,\n    636                                   return_times=True, return_parameters=False,\n    637                                   error_score=self.error_score)\n    638           for parameters, (train, test) in product(candidate_params,\n--> 639                                                    cv.split(X, y, groups)))\n        cv.split = <bound method StratifiedKFold.split of Stratifie...ld(n_splits=5, random_state=None, shuffle=False)>\n        X = array([[   0,  286,    0, ...,    2,    0,    3]...1003,    0, ...,    2,    3,    2]], dtype=int64)\n        y = ['non functional', 'functional', 'functional', 'functional', 'functional', 'functional needs repair', 'functional', 'functional', 'non functional', 'non functional', 'non functional', 'non functional', 'functional', 'functional', 'functional', 'functional', 'non functional', 'functional', 'non functional', 'non functional', ...]\n        groups = None\n    640 \n    641         # if one choose to see train score, \"out\" will contain train score info\n    642         if self.return_train_score:\n    643             (train_score_dicts, test_score_dicts, test_sample_counts, fit_time,\n\n...........................................................................\nC:\\ProgramData\\Anaconda3\\lib\\site-packages\\sklearn\\externals\\joblib\\parallel.py in __call__(self=Parallel(n_jobs=-1), iterable=<generator object BaseSearchCV.fit.<locals>.<genexpr>>)\n    784             if pre_dispatch == \"all\" or n_jobs == 1:\n    785                 # The iterable was consumed all at once by the above for loop.\n    786                 # No need to wait for async callbacks to trigger to\n    787                 # consumption.\n    788                 self._iterating = False\n--> 789             self.retrieve()\n        self.retrieve = <bound method Parallel.retrieve of Parallel(n_jobs=-1)>\n    790             # Make sure that we get a last message telling us we are done\n    791             elapsed_time = time.time() - self._start_time\n    792             self._print('Done %3i out of %3i | elapsed: %s finished',\n    793                         (len(self._output), len(self._output),\n\n---------------------------------------------------------------------------\nSub-process traceback:\n---------------------------------------------------------------------------\nValueError                                         Thu Jun 27 00:12:56 2019\nPID: 10604                Python 3.6.4: C:\\ProgramData\\Anaconda3\\python.exe\n...........................................................................\nC:\\ProgramData\\Anaconda3\\lib\\site-packages\\sklearn\\externals\\joblib\\parallel.py in __call__(self=<sklearn.externals.joblib.parallel.BatchedCalls object>)\n    126     def __init__(self, iterator_slice):\n    127         self.items = list(iterator_slice)\n    128         self._size = len(self.items)\n    129 \n    130     def __call__(self):\n--> 131         return [func(*args, **kwargs) for func, args, kwargs in self.items]\n        self.items = [(<function _fit_and_score>, (RandomForestClassifier(bootstrap=True, class_wei...rue, random_state=1, verbose=0, warm_start=False), memmap([[   0,  286,    0, ...,    2,    0,    3...1003,    0, ...,    2,    3,    2]], dtype=int64), ['non functional', 'functional', 'functional', 'functional', 'functional', 'functional needs repair', 'functional', 'functional', 'non functional', 'non functional', 'non functional', 'non functional', 'functional', 'functional', 'functional', 'functional', 'non functional', 'functional', 'non functional', 'non functional', ...], {'score': make_scorer(accuracy_score)}, array([    0,     1,     2, ..., 41577, 41578, 41579]), array([16543, 16546, 16547, ..., 25243, 25244, 25287]), 0, {'criterion': 'entropy', 'max_features': 'auto', 'min_samples_split': 15, 'n_estimators': 800}), {'error_score': 'raise', 'fit_params': {}, 'return_n_test_samples': True, 'return_parameters': False, 'return_times': True, 'return_train_score': 'warn'})]\n    132 \n    133     def __len__(self):\n    134         return self._size\n    135 \n\n...........................................................................\nC:\\ProgramData\\Anaconda3\\lib\\site-packages\\sklearn\\externals\\joblib\\parallel.py in <listcomp>(.0=<list_iterator object>)\n    126     def __init__(self, iterator_slice):\n    127         self.items = list(iterator_slice)\n    128         self._size = len(self.items)\n    129 \n    130     def __call__(self):\n--> 131         return [func(*args, **kwargs) for func, args, kwargs in self.items]\n        func = <function _fit_and_score>\n        args = (RandomForestClassifier(bootstrap=True, class_wei...rue, random_state=1, verbose=0, warm_start=False), memmap([[   0,  286,    0, ...,    2,    0,    3...1003,    0, ...,    2,    3,    2]], dtype=int64), ['non functional', 'functional', 'functional', 'functional', 'functional', 'functional needs repair', 'functional', 'functional', 'non functional', 'non functional', 'non functional', 'non functional', 'functional', 'functional', 'functional', 'functional', 'non functional', 'functional', 'non functional', 'non functional', ...], {'score': make_scorer(accuracy_score)}, array([    0,     1,     2, ..., 41577, 41578, 41579]), array([16543, 16546, 16547, ..., 25243, 25244, 25287]), 0, {'criterion': 'entropy', 'max_features': 'auto', 'min_samples_split': 15, 'n_estimators': 800})\n        kwargs = {'error_score': 'raise', 'fit_params': {}, 'return_n_test_samples': True, 'return_parameters': False, 'return_times': True, 'return_train_score': 'warn'}\n    132 \n    133     def __len__(self):\n    134         return self._size\n    135 \n\n...........................................................................\nC:\\ProgramData\\Anaconda3\\lib\\site-packages\\sklearn\\model_selection\\_validation.py in _fit_and_score(estimator=RandomForestClassifier(bootstrap=True, class_wei...rue, random_state=1, verbose=0, warm_start=False), X=memmap([[   0,  286,    0, ...,    2,    0,    3...1003,    0, ...,    2,    3,    2]], dtype=int64), y=['non functional', 'functional', 'functional', 'functional', 'functional', 'functional needs repair', 'functional', 'functional', 'non functional', 'non functional', 'non functional', 'non functional', 'functional', 'functional', 'functional', 'functional', 'non functional', 'functional', 'non functional', 'non functional', ...], scorer={'score': make_scorer(accuracy_score)}, train=array([    0,     1,     2, ..., 41577, 41578, 41579]), test=array([16543, 16546, 16547, ..., 25243, 25244, 25287]), verbose=0, parameters={'criterion': 'entropy', 'max_features': 'auto', 'min_samples_split': 15, 'n_estimators': 800}, fit_params={}, return_train_score='warn', return_parameters=False, return_n_test_samples=True, return_times=True, error_score='raise')\n    453 \n    454     try:\n    455         if y_train is None:\n    456             estimator.fit(X_train, **fit_params)\n    457         else:\n--> 458             estimator.fit(X_train, y_train, **fit_params)\n        estimator.fit = <bound method BaseForest.fit of RandomForestClas...ue, random_state=1, verbose=0, warm_start=False)>\n        X_train = memmap([[   0,  286,    0, ...,    2,    0,    3...1003,    0, ...,    2,    3,    2]], dtype=int64)\n        y_train = ['non functional', 'functional', 'functional', 'functional', 'functional', 'functional needs repair', 'functional', 'functional', 'non functional', 'non functional', 'non functional', 'non functional', 'functional', 'functional', 'functional', 'functional', 'non functional', 'functional', 'non functional', 'non functional', ...]\n        fit_params = {}\n    459 \n    460     except Exception as e:\n    461         # Note fit time as time until error\n    462         fit_time = time.time() - start_time\n\n...........................................................................\nC:\\ProgramData\\Anaconda3\\lib\\site-packages\\sklearn\\ensemble\\forest.py in fit(self=RandomForestClassifier(bootstrap=True, class_wei...rue, random_state=1, verbose=0, warm_start=False), X=array([[0.000e+00, 2.860e+02, 0.000e+00, ..., 2....0, 3.000e+00,\n        2.000e+00]], dtype=float32), y=array([[2.],\n       [0.],\n       [0.],\n       ...,\n       [0.],\n       [2.],\n       [2.]]), sample_weight=None)\n    329 \n    330             # Collect newly grown trees\n    331             self.estimators_.extend(trees)\n    332 \n    333         if self.oob_score:\n--> 334             self._set_oob_score(X, y)\n        self._set_oob_score = <bound method ForestClassifier._set_oob_score of...ue, random_state=1, verbose=0, warm_start=False)>\n        X = array([[0.000e+00, 2.860e+02, 0.000e+00, ..., 2....0, 3.000e+00,\n        2.000e+00]], dtype=float32)\n        y = array([[2.],\n       [0.],\n       [0.],\n       ...,\n       [0.],\n       [2.],\n       [2.]])\n    335 \n    336         # Decapsulate classes_ attributes\n    337         if hasattr(self, \"classes_\") and self.n_outputs_ == 1:\n    338             self.n_classes_ = self.n_classes_[0]\n\n...........................................................................\nC:\\ProgramData\\Anaconda3\\lib\\site-packages\\sklearn\\ensemble\\forest.py in _set_oob_score(self=RandomForestClassifier(bootstrap=True, class_wei...rue, random_state=1, verbose=0, warm_start=False), X=array([[0.000e+00, 2.860e+02, 0.000e+00, ..., 2....0, 3.000e+00,\n        2.000e+00]], dtype=float32), y=array([[2.],\n       [0.],\n       [0.],\n       ...,\n       [0.],\n       [2.],\n       [2.]]))\n    444 \n    445             if self.n_outputs_ == 1:\n    446                 p_estimator = [p_estimator]\n    447 \n    448             for k in range(self.n_outputs_):\n--> 449                 predictions[k][unsampled_indices, :] += p_estimator[k]\n        predictions = [array([[  8.2261757 ,   0.53043478, 220.24338952...     [  5.11993781,   0.56944444, 209.31061774]])]\n        k = 0\n        unsampled_indices = array([    3,     7,     9, ..., 33251, 33252, 33255])\n        p_estimator = [array([[0.84210526, 0.        , 0.        , 0.  ...0.06666667, 0.53333333, 0.        , 0.33333333]])]\n    450 \n    451         for k in range(self.n_outputs_):\n    452             if (predictions[k].sum(axis=1) == 0).any():\n    453                 warn(\"Some inputs do not have OOB scores. \"\n\nValueError: operands could not be broadcast together with shapes (12294,3) (12294,5) (12294,3) \n___________________________________________________________________________",
     "output_type": "error",
     "traceback": [
      "\u001b[1;31m---------------------------------------------------------------------------\u001b[0m",
      "\u001b[1;31mRemoteTraceback\u001b[0m                           Traceback (most recent call last)",
      "\u001b[1;31mRemoteTraceback\u001b[0m: \n\"\"\"\nTraceback (most recent call last):\n  File \"C:\\ProgramData\\Anaconda3\\lib\\site-packages\\sklearn\\externals\\joblib\\_parallel_backends.py\", line 350, in __call__\n    return self.func(*args, **kwargs)\n  File \"C:\\ProgramData\\Anaconda3\\lib\\site-packages\\sklearn\\externals\\joblib\\parallel.py\", line 131, in __call__\n    return [func(*args, **kwargs) for func, args, kwargs in self.items]\n  File \"C:\\ProgramData\\Anaconda3\\lib\\site-packages\\sklearn\\externals\\joblib\\parallel.py\", line 131, in <listcomp>\n    return [func(*args, **kwargs) for func, args, kwargs in self.items]\n  File \"C:\\ProgramData\\Anaconda3\\lib\\site-packages\\sklearn\\model_selection\\_validation.py\", line 458, in _fit_and_score\n    estimator.fit(X_train, y_train, **fit_params)\n  File \"C:\\ProgramData\\Anaconda3\\lib\\site-packages\\sklearn\\ensemble\\forest.py\", line 334, in fit\n    self._set_oob_score(X, y)\n  File \"C:\\ProgramData\\Anaconda3\\lib\\site-packages\\sklearn\\ensemble\\forest.py\", line 449, in _set_oob_score\n    predictions[k][unsampled_indices, :] += p_estimator[k]\nValueError: operands could not be broadcast together with shapes (12294,3) (12294,5) (12294,3) \n\nDuring handling of the above exception, another exception occurred:\n\nTraceback (most recent call last):\n  File \"C:\\ProgramData\\Anaconda3\\lib\\multiprocessing\\pool.py\", line 119, in worker\n    result = (True, func(*args, **kwds))\n  File \"C:\\ProgramData\\Anaconda3\\lib\\site-packages\\sklearn\\externals\\joblib\\_parallel_backends.py\", line 359, in __call__\n    raise TransportableException(text, e_type)\nsklearn.externals.joblib.my_exceptions.TransportableException: TransportableException\n___________________________________________________________________________\nValueError                                         Thu Jun 27 00:12:56 2019\nPID: 10604                Python 3.6.4: C:\\ProgramData\\Anaconda3\\python.exe\n...........................................................................\nC:\\ProgramData\\Anaconda3\\lib\\site-packages\\sklearn\\externals\\joblib\\parallel.py in __call__(self=<sklearn.externals.joblib.parallel.BatchedCalls object>)\n    126     def __init__(self, iterator_slice):\n    127         self.items = list(iterator_slice)\n    128         self._size = len(self.items)\n    129 \n    130     def __call__(self):\n--> 131         return [func(*args, **kwargs) for func, args, kwargs in self.items]\n        self.items = [(<function _fit_and_score>, (RandomForestClassifier(bootstrap=True, class_wei...rue, random_state=1, verbose=0, warm_start=False), memmap([[   0,  286,    0, ...,    2,    0,    3...1003,    0, ...,    2,    3,    2]], dtype=int64), ['non functional', 'functional', 'functional', 'functional', 'functional', 'functional needs repair', 'functional', 'functional', 'non functional', 'non functional', 'non functional', 'non functional', 'functional', 'functional', 'functional', 'functional', 'non functional', 'functional', 'non functional', 'non functional', ...], {'score': make_scorer(accuracy_score)}, array([    0,     1,     2, ..., 41577, 41578, 41579]), array([16543, 16546, 16547, ..., 25243, 25244, 25287]), 0, {'criterion': 'entropy', 'max_features': 'auto', 'min_samples_split': 15, 'n_estimators': 800}), {'error_score': 'raise', 'fit_params': {}, 'return_n_test_samples': True, 'return_parameters': False, 'return_times': True, 'return_train_score': 'warn'})]\n    132 \n    133     def __len__(self):\n    134         return self._size\n    135 \n\n...........................................................................\nC:\\ProgramData\\Anaconda3\\lib\\site-packages\\sklearn\\externals\\joblib\\parallel.py in <listcomp>(.0=<list_iterator object>)\n    126     def __init__(self, iterator_slice):\n    127         self.items = list(iterator_slice)\n    128         self._size = len(self.items)\n    129 \n    130     def __call__(self):\n--> 131         return [func(*args, **kwargs) for func, args, kwargs in self.items]\n        func = <function _fit_and_score>\n        args = (RandomForestClassifier(bootstrap=True, class_wei...rue, random_state=1, verbose=0, warm_start=False), memmap([[   0,  286,    0, ...,    2,    0,    3...1003,    0, ...,    2,    3,    2]], dtype=int64), ['non functional', 'functional', 'functional', 'functional', 'functional', 'functional needs repair', 'functional', 'functional', 'non functional', 'non functional', 'non functional', 'non functional', 'functional', 'functional', 'functional', 'functional', 'non functional', 'functional', 'non functional', 'non functional', ...], {'score': make_scorer(accuracy_score)}, array([    0,     1,     2, ..., 41577, 41578, 41579]), array([16543, 16546, 16547, ..., 25243, 25244, 25287]), 0, {'criterion': 'entropy', 'max_features': 'auto', 'min_samples_split': 15, 'n_estimators': 800})\n        kwargs = {'error_score': 'raise', 'fit_params': {}, 'return_n_test_samples': True, 'return_parameters': False, 'return_times': True, 'return_train_score': 'warn'}\n    132 \n    133     def __len__(self):\n    134         return self._size\n    135 \n\n...........................................................................\nC:\\ProgramData\\Anaconda3\\lib\\site-packages\\sklearn\\model_selection\\_validation.py in _fit_and_score(estimator=RandomForestClassifier(bootstrap=True, class_wei...rue, random_state=1, verbose=0, warm_start=False), X=memmap([[   0,  286,    0, ...,    2,    0,    3...1003,    0, ...,    2,    3,    2]], dtype=int64), y=['non functional', 'functional', 'functional', 'functional', 'functional', 'functional needs repair', 'functional', 'functional', 'non functional', 'non functional', 'non functional', 'non functional', 'functional', 'functional', 'functional', 'functional', 'non functional', 'functional', 'non functional', 'non functional', ...], scorer={'score': make_scorer(accuracy_score)}, train=array([    0,     1,     2, ..., 41577, 41578, 41579]), test=array([16543, 16546, 16547, ..., 25243, 25244, 25287]), verbose=0, parameters={'criterion': 'entropy', 'max_features': 'auto', 'min_samples_split': 15, 'n_estimators': 800}, fit_params={}, return_train_score='warn', return_parameters=False, return_n_test_samples=True, return_times=True, error_score='raise')\n    453 \n    454     try:\n    455         if y_train is None:\n    456             estimator.fit(X_train, **fit_params)\n    457         else:\n--> 458             estimator.fit(X_train, y_train, **fit_params)\n        estimator.fit = <bound method BaseForest.fit of RandomForestClas...ue, random_state=1, verbose=0, warm_start=False)>\n        X_train = memmap([[   0,  286,    0, ...,    2,    0,    3...1003,    0, ...,    2,    3,    2]], dtype=int64)\n        y_train = ['non functional', 'functional', 'functional', 'functional', 'functional', 'functional needs repair', 'functional', 'functional', 'non functional', 'non functional', 'non functional', 'non functional', 'functional', 'functional', 'functional', 'functional', 'non functional', 'functional', 'non functional', 'non functional', ...]\n        fit_params = {}\n    459 \n    460     except Exception as e:\n    461         # Note fit time as time until error\n    462         fit_time = time.time() - start_time\n\n...........................................................................\nC:\\ProgramData\\Anaconda3\\lib\\site-packages\\sklearn\\ensemble\\forest.py in fit(self=RandomForestClassifier(bootstrap=True, class_wei...rue, random_state=1, verbose=0, warm_start=False), X=array([[0.000e+00, 2.860e+02, 0.000e+00, ..., 2....0, 3.000e+00,\n        2.000e+00]], dtype=float32), y=array([[2.],\n       [0.],\n       [0.],\n       ...,\n       [0.],\n       [2.],\n       [2.]]), sample_weight=None)\n    329 \n    330             # Collect newly grown trees\n    331             self.estimators_.extend(trees)\n    332 \n    333         if self.oob_score:\n--> 334             self._set_oob_score(X, y)\n        self._set_oob_score = <bound method ForestClassifier._set_oob_score of...ue, random_state=1, verbose=0, warm_start=False)>\n        X = array([[0.000e+00, 2.860e+02, 0.000e+00, ..., 2....0, 3.000e+00,\n        2.000e+00]], dtype=float32)\n        y = array([[2.],\n       [0.],\n       [0.],\n       ...,\n       [0.],\n       [2.],\n       [2.]])\n    335 \n    336         # Decapsulate classes_ attributes\n    337         if hasattr(self, \"classes_\") and self.n_outputs_ == 1:\n    338             self.n_classes_ = self.n_classes_[0]\n\n...........................................................................\nC:\\ProgramData\\Anaconda3\\lib\\site-packages\\sklearn\\ensemble\\forest.py in _set_oob_score(self=RandomForestClassifier(bootstrap=True, class_wei...rue, random_state=1, verbose=0, warm_start=False), X=array([[0.000e+00, 2.860e+02, 0.000e+00, ..., 2....0, 3.000e+00,\n        2.000e+00]], dtype=float32), y=array([[2.],\n       [0.],\n       [0.],\n       ...,\n       [0.],\n       [2.],\n       [2.]]))\n    444 \n    445             if self.n_outputs_ == 1:\n    446                 p_estimator = [p_estimator]\n    447 \n    448             for k in range(self.n_outputs_):\n--> 449                 predictions[k][unsampled_indices, :] += p_estimator[k]\n        predictions = [array([[  8.2261757 ,   0.53043478, 220.24338952...     [  5.11993781,   0.56944444, 209.31061774]])]\n        k = 0\n        unsampled_indices = array([    3,     7,     9, ..., 33251, 33252, 33255])\n        p_estimator = [array([[0.84210526, 0.        , 0.        , 0.  ...0.06666667, 0.53333333, 0.        , 0.33333333]])]\n    450 \n    451         for k in range(self.n_outputs_):\n    452             if (predictions[k].sum(axis=1) == 0).any():\n    453                 warn(\"Some inputs do not have OOB scores. \"\n\nValueError: operands could not be broadcast together with shapes (12294,3) (12294,5) (12294,3) \n___________________________________________________________________________\n\"\"\"",
      "\nThe above exception was the direct cause of the following exception:\n",
      "\u001b[1;31mTransportableException\u001b[0m                    Traceback (most recent call last)",
      "\u001b[1;32mC:\\ProgramData\\Anaconda3\\lib\\site-packages\\sklearn\\externals\\joblib\\parallel.py\u001b[0m in \u001b[0;36mretrieve\u001b[1;34m(self)\u001b[0m\n\u001b[0;32m    698\u001b[0m                 \u001b[1;32mif\u001b[0m \u001b[0mgetattr\u001b[0m\u001b[1;33m(\u001b[0m\u001b[0mself\u001b[0m\u001b[1;33m.\u001b[0m\u001b[0m_backend\u001b[0m\u001b[1;33m,\u001b[0m \u001b[1;34m'supports_timeout'\u001b[0m\u001b[1;33m,\u001b[0m \u001b[1;32mFalse\u001b[0m\u001b[1;33m)\u001b[0m\u001b[1;33m:\u001b[0m\u001b[1;33m\u001b[0m\u001b[0m\n\u001b[1;32m--> 699\u001b[1;33m                     \u001b[0mself\u001b[0m\u001b[1;33m.\u001b[0m\u001b[0m_output\u001b[0m\u001b[1;33m.\u001b[0m\u001b[0mextend\u001b[0m\u001b[1;33m(\u001b[0m\u001b[0mjob\u001b[0m\u001b[1;33m.\u001b[0m\u001b[0mget\u001b[0m\u001b[1;33m(\u001b[0m\u001b[0mtimeout\u001b[0m\u001b[1;33m=\u001b[0m\u001b[0mself\u001b[0m\u001b[1;33m.\u001b[0m\u001b[0mtimeout\u001b[0m\u001b[1;33m)\u001b[0m\u001b[1;33m)\u001b[0m\u001b[1;33m\u001b[0m\u001b[0m\n\u001b[0m\u001b[0;32m    700\u001b[0m                 \u001b[1;32melse\u001b[0m\u001b[1;33m:\u001b[0m\u001b[1;33m\u001b[0m\u001b[0m\n",
      "\u001b[1;32mC:\\ProgramData\\Anaconda3\\lib\\multiprocessing\\pool.py\u001b[0m in \u001b[0;36mget\u001b[1;34m(self, timeout)\u001b[0m\n\u001b[0;32m    643\u001b[0m         \u001b[1;32melse\u001b[0m\u001b[1;33m:\u001b[0m\u001b[1;33m\u001b[0m\u001b[0m\n\u001b[1;32m--> 644\u001b[1;33m             \u001b[1;32mraise\u001b[0m \u001b[0mself\u001b[0m\u001b[1;33m.\u001b[0m\u001b[0m_value\u001b[0m\u001b[1;33m\u001b[0m\u001b[0m\n\u001b[0m\u001b[0;32m    645\u001b[0m \u001b[1;33m\u001b[0m\u001b[0m\n",
      "\u001b[1;31mTransportableException\u001b[0m: TransportableException\n___________________________________________________________________________\nValueError                                         Thu Jun 27 00:12:56 2019\nPID: 10604                Python 3.6.4: C:\\ProgramData\\Anaconda3\\python.exe\n...........................................................................\nC:\\ProgramData\\Anaconda3\\lib\\site-packages\\sklearn\\externals\\joblib\\parallel.py in __call__(self=<sklearn.externals.joblib.parallel.BatchedCalls object>)\n    126     def __init__(self, iterator_slice):\n    127         self.items = list(iterator_slice)\n    128         self._size = len(self.items)\n    129 \n    130     def __call__(self):\n--> 131         return [func(*args, **kwargs) for func, args, kwargs in self.items]\n        self.items = [(<function _fit_and_score>, (RandomForestClassifier(bootstrap=True, class_wei...rue, random_state=1, verbose=0, warm_start=False), memmap([[   0,  286,    0, ...,    2,    0,    3...1003,    0, ...,    2,    3,    2]], dtype=int64), ['non functional', 'functional', 'functional', 'functional', 'functional', 'functional needs repair', 'functional', 'functional', 'non functional', 'non functional', 'non functional', 'non functional', 'functional', 'functional', 'functional', 'functional', 'non functional', 'functional', 'non functional', 'non functional', ...], {'score': make_scorer(accuracy_score)}, array([    0,     1,     2, ..., 41577, 41578, 41579]), array([16543, 16546, 16547, ..., 25243, 25244, 25287]), 0, {'criterion': 'entropy', 'max_features': 'auto', 'min_samples_split': 15, 'n_estimators': 800}), {'error_score': 'raise', 'fit_params': {}, 'return_n_test_samples': True, 'return_parameters': False, 'return_times': True, 'return_train_score': 'warn'})]\n    132 \n    133     def __len__(self):\n    134         return self._size\n    135 \n\n...........................................................................\nC:\\ProgramData\\Anaconda3\\lib\\site-packages\\sklearn\\externals\\joblib\\parallel.py in <listcomp>(.0=<list_iterator object>)\n    126     def __init__(self, iterator_slice):\n    127         self.items = list(iterator_slice)\n    128         self._size = len(self.items)\n    129 \n    130     def __call__(self):\n--> 131         return [func(*args, **kwargs) for func, args, kwargs in self.items]\n        func = <function _fit_and_score>\n        args = (RandomForestClassifier(bootstrap=True, class_wei...rue, random_state=1, verbose=0, warm_start=False), memmap([[   0,  286,    0, ...,    2,    0,    3...1003,    0, ...,    2,    3,    2]], dtype=int64), ['non functional', 'functional', 'functional', 'functional', 'functional', 'functional needs repair', 'functional', 'functional', 'non functional', 'non functional', 'non functional', 'non functional', 'functional', 'functional', 'functional', 'functional', 'non functional', 'functional', 'non functional', 'non functional', ...], {'score': make_scorer(accuracy_score)}, array([    0,     1,     2, ..., 41577, 41578, 41579]), array([16543, 16546, 16547, ..., 25243, 25244, 25287]), 0, {'criterion': 'entropy', 'max_features': 'auto', 'min_samples_split': 15, 'n_estimators': 800})\n        kwargs = {'error_score': 'raise', 'fit_params': {}, 'return_n_test_samples': True, 'return_parameters': False, 'return_times': True, 'return_train_score': 'warn'}\n    132 \n    133     def __len__(self):\n    134         return self._size\n    135 \n\n...........................................................................\nC:\\ProgramData\\Anaconda3\\lib\\site-packages\\sklearn\\model_selection\\_validation.py in _fit_and_score(estimator=RandomForestClassifier(bootstrap=True, class_wei...rue, random_state=1, verbose=0, warm_start=False), X=memmap([[   0,  286,    0, ...,    2,    0,    3...1003,    0, ...,    2,    3,    2]], dtype=int64), y=['non functional', 'functional', 'functional', 'functional', 'functional', 'functional needs repair', 'functional', 'functional', 'non functional', 'non functional', 'non functional', 'non functional', 'functional', 'functional', 'functional', 'functional', 'non functional', 'functional', 'non functional', 'non functional', ...], scorer={'score': make_scorer(accuracy_score)}, train=array([    0,     1,     2, ..., 41577, 41578, 41579]), test=array([16543, 16546, 16547, ..., 25243, 25244, 25287]), verbose=0, parameters={'criterion': 'entropy', 'max_features': 'auto', 'min_samples_split': 15, 'n_estimators': 800}, fit_params={}, return_train_score='warn', return_parameters=False, return_n_test_samples=True, return_times=True, error_score='raise')\n    453 \n    454     try:\n    455         if y_train is None:\n    456             estimator.fit(X_train, **fit_params)\n    457         else:\n--> 458             estimator.fit(X_train, y_train, **fit_params)\n        estimator.fit = <bound method BaseForest.fit of RandomForestClas...ue, random_state=1, verbose=0, warm_start=False)>\n        X_train = memmap([[   0,  286,    0, ...,    2,    0,    3...1003,    0, ...,    2,    3,    2]], dtype=int64)\n        y_train = ['non functional', 'functional', 'functional', 'functional', 'functional', 'functional needs repair', 'functional', 'functional', 'non functional', 'non functional', 'non functional', 'non functional', 'functional', 'functional', 'functional', 'functional', 'non functional', 'functional', 'non functional', 'non functional', ...]\n        fit_params = {}\n    459 \n    460     except Exception as e:\n    461         # Note fit time as time until error\n    462         fit_time = time.time() - start_time\n\n...........................................................................\nC:\\ProgramData\\Anaconda3\\lib\\site-packages\\sklearn\\ensemble\\forest.py in fit(self=RandomForestClassifier(bootstrap=True, class_wei...rue, random_state=1, verbose=0, warm_start=False), X=array([[0.000e+00, 2.860e+02, 0.000e+00, ..., 2....0, 3.000e+00,\n        2.000e+00]], dtype=float32), y=array([[2.],\n       [0.],\n       [0.],\n       ...,\n       [0.],\n       [2.],\n       [2.]]), sample_weight=None)\n    329 \n    330             # Collect newly grown trees\n    331             self.estimators_.extend(trees)\n    332 \n    333         if self.oob_score:\n--> 334             self._set_oob_score(X, y)\n        self._set_oob_score = <bound method ForestClassifier._set_oob_score of...ue, random_state=1, verbose=0, warm_start=False)>\n        X = array([[0.000e+00, 2.860e+02, 0.000e+00, ..., 2....0, 3.000e+00,\n        2.000e+00]], dtype=float32)\n        y = array([[2.],\n       [0.],\n       [0.],\n       ...,\n       [0.],\n       [2.],\n       [2.]])\n    335 \n    336         # Decapsulate classes_ attributes\n    337         if hasattr(self, \"classes_\") and self.n_outputs_ == 1:\n    338             self.n_classes_ = self.n_classes_[0]\n\n...........................................................................\nC:\\ProgramData\\Anaconda3\\lib\\site-packages\\sklearn\\ensemble\\forest.py in _set_oob_score(self=RandomForestClassifier(bootstrap=True, class_wei...rue, random_state=1, verbose=0, warm_start=False), X=array([[0.000e+00, 2.860e+02, 0.000e+00, ..., 2....0, 3.000e+00,\n        2.000e+00]], dtype=float32), y=array([[2.],\n       [0.],\n       [0.],\n       ...,\n       [0.],\n       [2.],\n       [2.]]))\n    444 \n    445             if self.n_outputs_ == 1:\n    446                 p_estimator = [p_estimator]\n    447 \n    448             for k in range(self.n_outputs_):\n--> 449                 predictions[k][unsampled_indices, :] += p_estimator[k]\n        predictions = [array([[  8.2261757 ,   0.53043478, 220.24338952...     [  5.11993781,   0.56944444, 209.31061774]])]\n        k = 0\n        unsampled_indices = array([    3,     7,     9, ..., 33251, 33252, 33255])\n        p_estimator = [array([[0.84210526, 0.        , 0.        , 0.  ...0.06666667, 0.53333333, 0.        , 0.33333333]])]\n    450 \n    451         for k in range(self.n_outputs_):\n    452             if (predictions[k].sum(axis=1) == 0).any():\n    453                 warn(\"Some inputs do not have OOB scores. \"\n\nValueError: operands could not be broadcast together with shapes (12294,3) (12294,5) (12294,3) \n___________________________________________________________________________",
      "\nDuring handling of the above exception, another exception occurred:\n",
      "\u001b[1;31mJoblibValueError\u001b[0m                          Traceback (most recent call last)",
      "\u001b[1;32m<ipython-input-27-0605bf83275a>\u001b[0m in \u001b[0;36m<module>\u001b[1;34m()\u001b[0m\n\u001b[1;32m----> 1\u001b[1;33m \u001b[0mgd_sr\u001b[0m\u001b[1;33m.\u001b[0m\u001b[0mfit\u001b[0m\u001b[1;33m(\u001b[0m\u001b[0mX_train\u001b[0m\u001b[1;33m,\u001b[0m \u001b[0my_train\u001b[0m\u001b[1;33m)\u001b[0m\u001b[1;33m\u001b[0m\u001b[0m\n\u001b[0m",
      "\u001b[1;32mC:\\ProgramData\\Anaconda3\\lib\\site-packages\\sklearn\\model_selection\\_search.py\u001b[0m in \u001b[0;36mfit\u001b[1;34m(self, X, y, groups, **fit_params)\u001b[0m\n\u001b[0;32m    637\u001b[0m                                   error_score=self.error_score)\n\u001b[0;32m    638\u001b[0m           for parameters, (train, test) in product(candidate_params,\n\u001b[1;32m--> 639\u001b[1;33m                                                    cv.split(X, y, groups)))\n\u001b[0m\u001b[0;32m    640\u001b[0m \u001b[1;33m\u001b[0m\u001b[0m\n\u001b[0;32m    641\u001b[0m         \u001b[1;31m# if one choose to see train score, \"out\" will contain train score info\u001b[0m\u001b[1;33m\u001b[0m\u001b[1;33m\u001b[0m\u001b[0m\n",
      "\u001b[1;32mC:\\ProgramData\\Anaconda3\\lib\\site-packages\\sklearn\\externals\\joblib\\parallel.py\u001b[0m in \u001b[0;36m__call__\u001b[1;34m(self, iterable)\u001b[0m\n\u001b[0;32m    787\u001b[0m                 \u001b[1;31m# consumption.\u001b[0m\u001b[1;33m\u001b[0m\u001b[1;33m\u001b[0m\u001b[0m\n\u001b[0;32m    788\u001b[0m                 \u001b[0mself\u001b[0m\u001b[1;33m.\u001b[0m\u001b[0m_iterating\u001b[0m \u001b[1;33m=\u001b[0m \u001b[1;32mFalse\u001b[0m\u001b[1;33m\u001b[0m\u001b[0m\n\u001b[1;32m--> 789\u001b[1;33m             \u001b[0mself\u001b[0m\u001b[1;33m.\u001b[0m\u001b[0mretrieve\u001b[0m\u001b[1;33m(\u001b[0m\u001b[1;33m)\u001b[0m\u001b[1;33m\u001b[0m\u001b[0m\n\u001b[0m\u001b[0;32m    790\u001b[0m             \u001b[1;31m# Make sure that we get a last message telling us we are done\u001b[0m\u001b[1;33m\u001b[0m\u001b[1;33m\u001b[0m\u001b[0m\n\u001b[0;32m    791\u001b[0m             \u001b[0melapsed_time\u001b[0m \u001b[1;33m=\u001b[0m \u001b[0mtime\u001b[0m\u001b[1;33m.\u001b[0m\u001b[0mtime\u001b[0m\u001b[1;33m(\u001b[0m\u001b[1;33m)\u001b[0m \u001b[1;33m-\u001b[0m \u001b[0mself\u001b[0m\u001b[1;33m.\u001b[0m\u001b[0m_start_time\u001b[0m\u001b[1;33m\u001b[0m\u001b[0m\n",
      "\u001b[1;32mC:\\ProgramData\\Anaconda3\\lib\\site-packages\\sklearn\\externals\\joblib\\parallel.py\u001b[0m in \u001b[0;36mretrieve\u001b[1;34m(self)\u001b[0m\n\u001b[0;32m    738\u001b[0m                     \u001b[0mexception\u001b[0m \u001b[1;33m=\u001b[0m \u001b[0mexception_type\u001b[0m\u001b[1;33m(\u001b[0m\u001b[0mreport\u001b[0m\u001b[1;33m)\u001b[0m\u001b[1;33m\u001b[0m\u001b[0m\n\u001b[0;32m    739\u001b[0m \u001b[1;33m\u001b[0m\u001b[0m\n\u001b[1;32m--> 740\u001b[1;33m                     \u001b[1;32mraise\u001b[0m \u001b[0mexception\u001b[0m\u001b[1;33m\u001b[0m\u001b[0m\n\u001b[0m\u001b[0;32m    741\u001b[0m \u001b[1;33m\u001b[0m\u001b[0m\n\u001b[0;32m    742\u001b[0m     \u001b[1;32mdef\u001b[0m \u001b[0m__call__\u001b[0m\u001b[1;33m(\u001b[0m\u001b[0mself\u001b[0m\u001b[1;33m,\u001b[0m \u001b[0miterable\u001b[0m\u001b[1;33m)\u001b[0m\u001b[1;33m:\u001b[0m\u001b[1;33m\u001b[0m\u001b[0m\n",
      "\u001b[1;31mJoblibValueError\u001b[0m: JoblibValueError\n___________________________________________________________________________\nMultiprocessing exception:\n...........................................................................\nC:\\ProgramData\\Anaconda3\\lib\\runpy.py in _run_module_as_main(mod_name='ipykernel_launcher', alter_argv=1)\n    188         sys.exit(msg)\n    189     main_globals = sys.modules[\"__main__\"].__dict__\n    190     if alter_argv:\n    191         sys.argv[0] = mod_spec.origin\n    192     return _run_code(code, main_globals, None,\n--> 193                      \"__main__\", mod_spec)\n        mod_spec = ModuleSpec(name='ipykernel_launcher', loader=<_f...nda3\\\\lib\\\\site-packages\\\\ipykernel_launcher.py')\n    194 \n    195 def run_module(mod_name, init_globals=None,\n    196                run_name=None, alter_sys=False):\n    197     \"\"\"Execute a module's code without importing it\n\n...........................................................................\nC:\\ProgramData\\Anaconda3\\lib\\runpy.py in _run_code(code=<code object <module> at 0x00000250F6279ED0, fil...lib\\site-packages\\ipykernel_launcher.py\", line 5>, run_globals={'__annotations__': {}, '__builtins__': <module 'builtins' (built-in)>, '__cached__': r'C:\\ProgramData\\Anaconda3\\lib\\site-packages\\__pycache__\\ipykernel_launcher.cpython-36.pyc', '__doc__': 'Entry point for launching an IPython kernel.\\n\\nTh...orts until\\nafter removing the cwd from sys.path.\\n', '__file__': r'C:\\ProgramData\\Anaconda3\\lib\\site-packages\\ipykernel_launcher.py', '__loader__': <_frozen_importlib_external.SourceFileLoader object>, '__name__': '__main__', '__package__': '', '__spec__': ModuleSpec(name='ipykernel_launcher', loader=<_f...nda3\\\\lib\\\\site-packages\\\\ipykernel_launcher.py'), 'app': <module 'ipykernel.kernelapp' from 'C:\\\\ProgramD...a3\\\\lib\\\\site-packages\\\\ipykernel\\\\kernelapp.py'>, ...}, init_globals=None, mod_name='__main__', mod_spec=ModuleSpec(name='ipykernel_launcher', loader=<_f...nda3\\\\lib\\\\site-packages\\\\ipykernel_launcher.py'), pkg_name='', script_name=None)\n     80                        __cached__ = cached,\n     81                        __doc__ = None,\n     82                        __loader__ = loader,\n     83                        __package__ = pkg_name,\n     84                        __spec__ = mod_spec)\n---> 85     exec(code, run_globals)\n        code = <code object <module> at 0x00000250F6279ED0, fil...lib\\site-packages\\ipykernel_launcher.py\", line 5>\n        run_globals = {'__annotations__': {}, '__builtins__': <module 'builtins' (built-in)>, '__cached__': r'C:\\ProgramData\\Anaconda3\\lib\\site-packages\\__pycache__\\ipykernel_launcher.cpython-36.pyc', '__doc__': 'Entry point for launching an IPython kernel.\\n\\nTh...orts until\\nafter removing the cwd from sys.path.\\n', '__file__': r'C:\\ProgramData\\Anaconda3\\lib\\site-packages\\ipykernel_launcher.py', '__loader__': <_frozen_importlib_external.SourceFileLoader object>, '__name__': '__main__', '__package__': '', '__spec__': ModuleSpec(name='ipykernel_launcher', loader=<_f...nda3\\\\lib\\\\site-packages\\\\ipykernel_launcher.py'), 'app': <module 'ipykernel.kernelapp' from 'C:\\\\ProgramD...a3\\\\lib\\\\site-packages\\\\ipykernel\\\\kernelapp.py'>, ...}\n     86     return run_globals\n     87 \n     88 def _run_module_code(code, init_globals=None,\n     89                     mod_name=None, mod_spec=None,\n\n...........................................................................\nC:\\ProgramData\\Anaconda3\\lib\\site-packages\\ipykernel_launcher.py in <module>()\n     11     # This is added back by InteractiveShellApp.init_path()\n     12     if sys.path[0] == '':\n     13         del sys.path[0]\n     14 \n     15     from ipykernel import kernelapp as app\n---> 16     app.launch_new_instance()\n\n...........................................................................\nC:\\ProgramData\\Anaconda3\\lib\\site-packages\\traitlets\\config\\application.py in launch_instance(cls=<class 'ipykernel.kernelapp.IPKernelApp'>, argv=None, **kwargs={})\n    653 \n    654         If a global instance already exists, this reinitializes and starts it\n    655         \"\"\"\n    656         app = cls.instance(**kwargs)\n    657         app.initialize(argv)\n--> 658         app.start()\n        app.start = <bound method IPKernelApp.start of <ipykernel.kernelapp.IPKernelApp object>>\n    659 \n    660 #-----------------------------------------------------------------------------\n    661 # utility functions, for convenience\n    662 #-----------------------------------------------------------------------------\n\n...........................................................................\nC:\\ProgramData\\Anaconda3\\lib\\site-packages\\ipykernel\\kernelapp.py in start(self=<ipykernel.kernelapp.IPKernelApp object>)\n    473         if self.poller is not None:\n    474             self.poller.start()\n    475         self.kernel.start()\n    476         self.io_loop = ioloop.IOLoop.current()\n    477         try:\n--> 478             self.io_loop.start()\n        self.io_loop.start = <bound method ZMQIOLoop.start of <zmq.eventloop.ioloop.ZMQIOLoop object>>\n    479         except KeyboardInterrupt:\n    480             pass\n    481 \n    482 launch_new_instance = IPKernelApp.launch_instance\n\n...........................................................................\nC:\\ProgramData\\Anaconda3\\lib\\site-packages\\zmq\\eventloop\\ioloop.py in start(self=<zmq.eventloop.ioloop.ZMQIOLoop object>)\n    172             )\n    173         return loop\n    174     \n    175     def start(self):\n    176         try:\n--> 177             super(ZMQIOLoop, self).start()\n        self.start = <bound method ZMQIOLoop.start of <zmq.eventloop.ioloop.ZMQIOLoop object>>\n    178         except ZMQError as e:\n    179             if e.errno == ETERM:\n    180                 # quietly return on ETERM\n    181                 pass\n\n...........................................................................\nC:\\ProgramData\\Anaconda3\\lib\\site-packages\\tornado\\ioloop.py in start(self=<zmq.eventloop.ioloop.ZMQIOLoop object>)\n    883                 self._events.update(event_pairs)\n    884                 while self._events:\n    885                     fd, events = self._events.popitem()\n    886                     try:\n    887                         fd_obj, handler_func = self._handlers[fd]\n--> 888                         handler_func(fd_obj, events)\n        handler_func = <function wrap.<locals>.null_wrapper>\n        fd_obj = <zmq.sugar.socket.Socket object>\n        events = 5\n    889                     except (OSError, IOError) as e:\n    890                         if errno_from_exception(e) == errno.EPIPE:\n    891                             # Happens when the client closes the connection\n    892                             pass\n\n...........................................................................\nC:\\ProgramData\\Anaconda3\\lib\\site-packages\\tornado\\stack_context.py in null_wrapper(*args=(<zmq.sugar.socket.Socket object>, 5), **kwargs={})\n    272         # Fast path when there are no active contexts.\n    273         def null_wrapper(*args, **kwargs):\n    274             try:\n    275                 current_state = _state.contexts\n    276                 _state.contexts = cap_contexts[0]\n--> 277                 return fn(*args, **kwargs)\n        args = (<zmq.sugar.socket.Socket object>, 5)\n        kwargs = {}\n    278             finally:\n    279                 _state.contexts = current_state\n    280         null_wrapper._wrapped = True\n    281         return null_wrapper\n\n...........................................................................\nC:\\ProgramData\\Anaconda3\\lib\\site-packages\\zmq\\eventloop\\zmqstream.py in _handle_events(self=<zmq.eventloop.zmqstream.ZMQStream object>, fd=<zmq.sugar.socket.Socket object>, events=5)\n    435             # dispatch events:\n    436             if events & IOLoop.ERROR:\n    437                 gen_log.error(\"got POLLERR event on ZMQStream, which doesn't make sense\")\n    438                 return\n    439             if events & IOLoop.READ:\n--> 440                 self._handle_recv()\n        self._handle_recv = <bound method ZMQStream._handle_recv of <zmq.eventloop.zmqstream.ZMQStream object>>\n    441                 if not self.socket:\n    442                     return\n    443             if events & IOLoop.WRITE:\n    444                 self._handle_send()\n\n...........................................................................\nC:\\ProgramData\\Anaconda3\\lib\\site-packages\\zmq\\eventloop\\zmqstream.py in _handle_recv(self=<zmq.eventloop.zmqstream.ZMQStream object>)\n    467                 gen_log.error(\"RECV Error: %s\"%zmq.strerror(e.errno))\n    468         else:\n    469             if self._recv_callback:\n    470                 callback = self._recv_callback\n    471                 # self._recv_callback = None\n--> 472                 self._run_callback(callback, msg)\n        self._run_callback = <bound method ZMQStream._run_callback of <zmq.eventloop.zmqstream.ZMQStream object>>\n        callback = <function wrap.<locals>.null_wrapper>\n        msg = [<zmq.sugar.frame.Frame object>, <zmq.sugar.frame.Frame object>, <zmq.sugar.frame.Frame object>, <zmq.sugar.frame.Frame object>, <zmq.sugar.frame.Frame object>, <zmq.sugar.frame.Frame object>, <zmq.sugar.frame.Frame object>]\n    473                 \n    474         # self.update_state()\n    475         \n    476 \n\n...........................................................................\nC:\\ProgramData\\Anaconda3\\lib\\site-packages\\zmq\\eventloop\\zmqstream.py in _run_callback(self=<zmq.eventloop.zmqstream.ZMQStream object>, callback=<function wrap.<locals>.null_wrapper>, *args=([<zmq.sugar.frame.Frame object>, <zmq.sugar.frame.Frame object>, <zmq.sugar.frame.Frame object>, <zmq.sugar.frame.Frame object>, <zmq.sugar.frame.Frame object>, <zmq.sugar.frame.Frame object>, <zmq.sugar.frame.Frame object>],), **kwargs={})\n    409         close our socket.\"\"\"\n    410         try:\n    411             # Use a NullContext to ensure that all StackContexts are run\n    412             # inside our blanket exception handler rather than outside.\n    413             with stack_context.NullContext():\n--> 414                 callback(*args, **kwargs)\n        callback = <function wrap.<locals>.null_wrapper>\n        args = ([<zmq.sugar.frame.Frame object>, <zmq.sugar.frame.Frame object>, <zmq.sugar.frame.Frame object>, <zmq.sugar.frame.Frame object>, <zmq.sugar.frame.Frame object>, <zmq.sugar.frame.Frame object>, <zmq.sugar.frame.Frame object>],)\n        kwargs = {}\n    415         except:\n    416             gen_log.error(\"Uncaught exception, closing connection.\",\n    417                           exc_info=True)\n    418             # Close the socket on an uncaught exception from a user callback\n\n...........................................................................\nC:\\ProgramData\\Anaconda3\\lib\\site-packages\\tornado\\stack_context.py in null_wrapper(*args=([<zmq.sugar.frame.Frame object>, <zmq.sugar.frame.Frame object>, <zmq.sugar.frame.Frame object>, <zmq.sugar.frame.Frame object>, <zmq.sugar.frame.Frame object>, <zmq.sugar.frame.Frame object>, <zmq.sugar.frame.Frame object>],), **kwargs={})\n    272         # Fast path when there are no active contexts.\n    273         def null_wrapper(*args, **kwargs):\n    274             try:\n    275                 current_state = _state.contexts\n    276                 _state.contexts = cap_contexts[0]\n--> 277                 return fn(*args, **kwargs)\n        args = ([<zmq.sugar.frame.Frame object>, <zmq.sugar.frame.Frame object>, <zmq.sugar.frame.Frame object>, <zmq.sugar.frame.Frame object>, <zmq.sugar.frame.Frame object>, <zmq.sugar.frame.Frame object>, <zmq.sugar.frame.Frame object>],)\n        kwargs = {}\n    278             finally:\n    279                 _state.contexts = current_state\n    280         null_wrapper._wrapped = True\n    281         return null_wrapper\n\n...........................................................................\nC:\\ProgramData\\Anaconda3\\lib\\site-packages\\ipykernel\\kernelbase.py in dispatcher(msg=[<zmq.sugar.frame.Frame object>, <zmq.sugar.frame.Frame object>, <zmq.sugar.frame.Frame object>, <zmq.sugar.frame.Frame object>, <zmq.sugar.frame.Frame object>, <zmq.sugar.frame.Frame object>, <zmq.sugar.frame.Frame object>])\n    278         if self.control_stream:\n    279             self.control_stream.on_recv(self.dispatch_control, copy=False)\n    280 \n    281         def make_dispatcher(stream):\n    282             def dispatcher(msg):\n--> 283                 return self.dispatch_shell(stream, msg)\n        msg = [<zmq.sugar.frame.Frame object>, <zmq.sugar.frame.Frame object>, <zmq.sugar.frame.Frame object>, <zmq.sugar.frame.Frame object>, <zmq.sugar.frame.Frame object>, <zmq.sugar.frame.Frame object>, <zmq.sugar.frame.Frame object>]\n    284             return dispatcher\n    285 \n    286         for s in self.shell_streams:\n    287             s.on_recv(make_dispatcher(s), copy=False)\n\n...........................................................................\nC:\\ProgramData\\Anaconda3\\lib\\site-packages\\ipykernel\\kernelbase.py in dispatch_shell(self=<ipykernel.ipkernel.IPythonKernel object>, stream=<zmq.eventloop.zmqstream.ZMQStream object>, msg={'buffers': [], 'content': {'allow_stdin': True, 'code': 'gd_sr.fit(X_train, y_train)', 'silent': False, 'stop_on_error': True, 'store_history': True, 'user_expressions': {}}, 'header': {'date': datetime.datetime(2019, 6, 26, 17, 24, 10, 314755, tzinfo=tzutc()), 'msg_id': 'fd09f488338f46e792651c3ced92e657', 'msg_type': 'execute_request', 'session': '837547c3ade043c3a45ff7c31c6b9054', 'username': 'username', 'version': '5.2'}, 'metadata': {}, 'msg_id': 'fd09f488338f46e792651c3ced92e657', 'msg_type': 'execute_request', 'parent_header': {}})\n    228             self.log.warn(\"Unknown message type: %r\", msg_type)\n    229         else:\n    230             self.log.debug(\"%s: %s\", msg_type, msg)\n    231             self.pre_handler_hook()\n    232             try:\n--> 233                 handler(stream, idents, msg)\n        handler = <bound method Kernel.execute_request of <ipykernel.ipkernel.IPythonKernel object>>\n        stream = <zmq.eventloop.zmqstream.ZMQStream object>\n        idents = [b'837547c3ade043c3a45ff7c31c6b9054']\n        msg = {'buffers': [], 'content': {'allow_stdin': True, 'code': 'gd_sr.fit(X_train, y_train)', 'silent': False, 'stop_on_error': True, 'store_history': True, 'user_expressions': {}}, 'header': {'date': datetime.datetime(2019, 6, 26, 17, 24, 10, 314755, tzinfo=tzutc()), 'msg_id': 'fd09f488338f46e792651c3ced92e657', 'msg_type': 'execute_request', 'session': '837547c3ade043c3a45ff7c31c6b9054', 'username': 'username', 'version': '5.2'}, 'metadata': {}, 'msg_id': 'fd09f488338f46e792651c3ced92e657', 'msg_type': 'execute_request', 'parent_header': {}}\n    234             except Exception:\n    235                 self.log.error(\"Exception in message handler:\", exc_info=True)\n    236             finally:\n    237                 self.post_handler_hook()\n\n...........................................................................\nC:\\ProgramData\\Anaconda3\\lib\\site-packages\\ipykernel\\kernelbase.py in execute_request(self=<ipykernel.ipkernel.IPythonKernel object>, stream=<zmq.eventloop.zmqstream.ZMQStream object>, ident=[b'837547c3ade043c3a45ff7c31c6b9054'], parent={'buffers': [], 'content': {'allow_stdin': True, 'code': 'gd_sr.fit(X_train, y_train)', 'silent': False, 'stop_on_error': True, 'store_history': True, 'user_expressions': {}}, 'header': {'date': datetime.datetime(2019, 6, 26, 17, 24, 10, 314755, tzinfo=tzutc()), 'msg_id': 'fd09f488338f46e792651c3ced92e657', 'msg_type': 'execute_request', 'session': '837547c3ade043c3a45ff7c31c6b9054', 'username': 'username', 'version': '5.2'}, 'metadata': {}, 'msg_id': 'fd09f488338f46e792651c3ced92e657', 'msg_type': 'execute_request', 'parent_header': {}})\n    394         if not silent:\n    395             self.execution_count += 1\n    396             self._publish_execute_input(code, parent, self.execution_count)\n    397 \n    398         reply_content = self.do_execute(code, silent, store_history,\n--> 399                                         user_expressions, allow_stdin)\n        user_expressions = {}\n        allow_stdin = True\n    400 \n    401         # Flush output before sending the reply.\n    402         sys.stdout.flush()\n    403         sys.stderr.flush()\n\n...........................................................................\nC:\\ProgramData\\Anaconda3\\lib\\site-packages\\ipykernel\\ipkernel.py in do_execute(self=<ipykernel.ipkernel.IPythonKernel object>, code='gd_sr.fit(X_train, y_train)', silent=False, store_history=True, user_expressions={}, allow_stdin=True)\n    203 \n    204         self._forward_input(allow_stdin)\n    205 \n    206         reply_content = {}\n    207         try:\n--> 208             res = shell.run_cell(code, store_history=store_history, silent=silent)\n        res = undefined\n        shell.run_cell = <bound method ZMQInteractiveShell.run_cell of <ipykernel.zmqshell.ZMQInteractiveShell object>>\n        code = 'gd_sr.fit(X_train, y_train)'\n        store_history = True\n        silent = False\n    209         finally:\n    210             self._restore_input()\n    211 \n    212         if res.error_before_exec is not None:\n\n...........................................................................\nC:\\ProgramData\\Anaconda3\\lib\\site-packages\\ipykernel\\zmqshell.py in run_cell(self=<ipykernel.zmqshell.ZMQInteractiveShell object>, *args=('gd_sr.fit(X_train, y_train)',), **kwargs={'silent': False, 'store_history': True})\n    532             )\n    533         self.payload_manager.write_payload(payload)\n    534 \n    535     def run_cell(self, *args, **kwargs):\n    536         self._last_traceback = None\n--> 537         return super(ZMQInteractiveShell, self).run_cell(*args, **kwargs)\n        self.run_cell = <bound method ZMQInteractiveShell.run_cell of <ipykernel.zmqshell.ZMQInteractiveShell object>>\n        args = ('gd_sr.fit(X_train, y_train)',)\n        kwargs = {'silent': False, 'store_history': True}\n    538 \n    539     def _showtraceback(self, etype, evalue, stb):\n    540         # try to preserve ordering of tracebacks and print statements\n    541         sys.stdout.flush()\n\n...........................................................................\nC:\\ProgramData\\Anaconda3\\lib\\site-packages\\IPython\\core\\interactiveshell.py in run_cell(self=<ipykernel.zmqshell.ZMQInteractiveShell object>, raw_cell='gd_sr.fit(X_train, y_train)', store_history=True, silent=False, shell_futures=True)\n   2723                 self.displayhook.exec_result = result\n   2724 \n   2725                 # Execute the user code\n   2726                 interactivity = \"none\" if silent else self.ast_node_interactivity\n   2727                 has_raised = self.run_ast_nodes(code_ast.body, cell_name,\n-> 2728                    interactivity=interactivity, compiler=compiler, result=result)\n        interactivity = 'last_expr'\n        compiler = <IPython.core.compilerop.CachingCompiler object>\n   2729                 \n   2730                 self.last_execution_succeeded = not has_raised\n   2731                 self.last_execution_result = result\n   2732 \n\n...........................................................................\nC:\\ProgramData\\Anaconda3\\lib\\site-packages\\IPython\\core\\interactiveshell.py in run_ast_nodes(self=<ipykernel.zmqshell.ZMQInteractiveShell object>, nodelist=[<_ast.Expr object>], cell_name='<ipython-input-27-0605bf83275a>', interactivity='last', compiler=<IPython.core.compilerop.CachingCompiler object>, result=<ExecutionResult object at 2508041f710, executio..._before_exec=None error_in_exec=None result=None>)\n   2851                     return True\n   2852 \n   2853             for i, node in enumerate(to_run_interactive):\n   2854                 mod = ast.Interactive([node])\n   2855                 code = compiler(mod, cell_name, \"single\")\n-> 2856                 if self.run_code(code, result):\n        self.run_code = <bound method InteractiveShell.run_code of <ipykernel.zmqshell.ZMQInteractiveShell object>>\n        code = <code object <module> at 0x00000250801A2540, file \"<ipython-input-27-0605bf83275a>\", line 1>\n        result = <ExecutionResult object at 2508041f710, executio..._before_exec=None error_in_exec=None result=None>\n   2857                     return True\n   2858 \n   2859             # Flush softspace\n   2860             if softspace(sys.stdout, 0):\n\n...........................................................................\nC:\\ProgramData\\Anaconda3\\lib\\site-packages\\IPython\\core\\interactiveshell.py in run_code(self=<ipykernel.zmqshell.ZMQInteractiveShell object>, code_obj=<code object <module> at 0x00000250801A2540, file \"<ipython-input-27-0605bf83275a>\", line 1>, result=<ExecutionResult object at 2508041f710, executio..._before_exec=None error_in_exec=None result=None>)\n   2905         outflag = True  # happens in more places, so it's easier as default\n   2906         try:\n   2907             try:\n   2908                 self.hooks.pre_run_code_hook()\n   2909                 #rprint('Running code', repr(code_obj)) # dbg\n-> 2910                 exec(code_obj, self.user_global_ns, self.user_ns)\n        code_obj = <code object <module> at 0x00000250801A2540, file \"<ipython-input-27-0605bf83275a>\", line 1>\n        self.user_global_ns = {'GridSearchCV': <class 'sklearn.model_selection._search.GridSearchCV'>, 'In': ['', \"import pandas as pd\\nimport numpy as np\\nimport ma..._ipython().run_line_magic('matplotlib', 'inline')\", \"train = pd.read_csv('training_data.csv')\\ntest = pd.read_csv('test_data.csv')\", \"training = train.drop('status_group', axis=1)\", \"training = training.drop('Unnamed: 0', axis=1)\\n\\ntest = test.drop('Unnamed: 0', axis=1)\", \"##Plot function for Confusion Matrix\\n\\n#plt.rcPar...2)\\n    plt.xlabel('Predicted label', fontsize=12)\", 'def transform_feature(df, column_name):\\n    uniq...pply(lambda y: transformer_dict[y])\\n    return df', \"integer_columns = ['days_since_recorded', 'popul...olumn)\\n    test = transform_feature(test, column)\", '## Converting the Training dataframe into a matr...ng.as_matrix()\\ny = train[\"status_group\"].tolist()', 'import sklearn.model_selection \\nX_train, X_test,...                                random_state = 0)', 'import sklearn.ensemble\\n\\nrfc = sklearn.ensemble....                                       n_jobs=-1)', \"rfc.fit(X_train, y_train)\\n\\nprint('Random Forest ...ssifier Test Score :', rfc.score(X_test, y_test))\", 'print(rfc.feature_importances_)', \"importance = rfc.feature_importances_\\nimportance....ylabel('Importance', fontsize = 12)\\n\\n#plt.show()\", 'test.head()', 'list(training.columns.values)', 'from sklearn.metrics import classification_report', 'predicted = rfc.predict(X_test)', 'report = classification_report(y_test, predicted)\\nprint(report)', '## Constructing the Confusion Matrix\\ncm = confus...\\nprint(cm)\\nplt.figure()\\nplot_confusion_matrix(cm)', ...], 'Out': {13: Text(17.2469,0.5,'Importance'), 14:    amount_tsh  days_since_recorded  funder  gps_...        2                4                      3, 15: ['amount_tsh', 'days_since_recorded', 'funder', 'gps_height', 'installer', 'basin', 'subvillage', 'population', 'public_meeting', 'scheme_management', 'scheme_name', 'permit', 'construction_year', 'extraction_type', 'payment_type', 'water_quality', 'quantity_group', 'source_type', 'source_class', 'waterpoint_type', ...]}, 'X': array([[  77,  995,    0, ...,    2,    4,    3]... 986,    6, ...,    2,    1,    0]], dtype=int64), 'X_test': array([[  0, 966,   0, ...,   2,   4,   3],\n    ...  0, 958,   0, ...,   0,   4,   3]], dtype=int64), 'X_train': array([[   0,  286,    0, ...,    2,    0,    3]...1003,    0, ...,    2,    3,    2]], dtype=int64), '_': ['amount_tsh', 'days_since_recorded', 'funder', 'gps_height', 'installer', 'basin', 'subvillage', 'population', 'public_meeting', 'scheme_management', 'scheme_name', 'permit', 'construction_year', 'extraction_type', 'payment_type', 'water_quality', 'quantity_group', 'source_type', 'source_class', 'waterpoint_type', ...], '_13': Text(17.2469,0.5,'Importance'), '_14':    amount_tsh  days_since_recorded  funder  gps_...        2                4                      3, '_15': ['amount_tsh', 'days_since_recorded', 'funder', 'gps_height', 'installer', 'basin', 'subvillage', 'population', 'public_meeting', 'scheme_management', 'scheme_name', 'permit', 'construction_year', 'extraction_type', 'payment_type', 'water_quality', 'quantity_group', 'source_type', 'source_class', 'waterpoint_type', ...], ...}\n        self.user_ns = {'GridSearchCV': <class 'sklearn.model_selection._search.GridSearchCV'>, 'In': ['', \"import pandas as pd\\nimport numpy as np\\nimport ma..._ipython().run_line_magic('matplotlib', 'inline')\", \"train = pd.read_csv('training_data.csv')\\ntest = pd.read_csv('test_data.csv')\", \"training = train.drop('status_group', axis=1)\", \"training = training.drop('Unnamed: 0', axis=1)\\n\\ntest = test.drop('Unnamed: 0', axis=1)\", \"##Plot function for Confusion Matrix\\n\\n#plt.rcPar...2)\\n    plt.xlabel('Predicted label', fontsize=12)\", 'def transform_feature(df, column_name):\\n    uniq...pply(lambda y: transformer_dict[y])\\n    return df', \"integer_columns = ['days_since_recorded', 'popul...olumn)\\n    test = transform_feature(test, column)\", '## Converting the Training dataframe into a matr...ng.as_matrix()\\ny = train[\"status_group\"].tolist()', 'import sklearn.model_selection \\nX_train, X_test,...                                random_state = 0)', 'import sklearn.ensemble\\n\\nrfc = sklearn.ensemble....                                       n_jobs=-1)', \"rfc.fit(X_train, y_train)\\n\\nprint('Random Forest ...ssifier Test Score :', rfc.score(X_test, y_test))\", 'print(rfc.feature_importances_)', \"importance = rfc.feature_importances_\\nimportance....ylabel('Importance', fontsize = 12)\\n\\n#plt.show()\", 'test.head()', 'list(training.columns.values)', 'from sklearn.metrics import classification_report', 'predicted = rfc.predict(X_test)', 'report = classification_report(y_test, predicted)\\nprint(report)', '## Constructing the Confusion Matrix\\ncm = confus...\\nprint(cm)\\nplt.figure()\\nplot_confusion_matrix(cm)', ...], 'Out': {13: Text(17.2469,0.5,'Importance'), 14:    amount_tsh  days_since_recorded  funder  gps_...        2                4                      3, 15: ['amount_tsh', 'days_since_recorded', 'funder', 'gps_height', 'installer', 'basin', 'subvillage', 'population', 'public_meeting', 'scheme_management', 'scheme_name', 'permit', 'construction_year', 'extraction_type', 'payment_type', 'water_quality', 'quantity_group', 'source_type', 'source_class', 'waterpoint_type', ...]}, 'X': array([[  77,  995,    0, ...,    2,    4,    3]... 986,    6, ...,    2,    1,    0]], dtype=int64), 'X_test': array([[  0, 966,   0, ...,   2,   4,   3],\n    ...  0, 958,   0, ...,   0,   4,   3]], dtype=int64), 'X_train': array([[   0,  286,    0, ...,    2,    0,    3]...1003,    0, ...,    2,    3,    2]], dtype=int64), '_': ['amount_tsh', 'days_since_recorded', 'funder', 'gps_height', 'installer', 'basin', 'subvillage', 'population', 'public_meeting', 'scheme_management', 'scheme_name', 'permit', 'construction_year', 'extraction_type', 'payment_type', 'water_quality', 'quantity_group', 'source_type', 'source_class', 'waterpoint_type', ...], '_13': Text(17.2469,0.5,'Importance'), '_14':    amount_tsh  days_since_recorded  funder  gps_...        2                4                      3, '_15': ['amount_tsh', 'days_since_recorded', 'funder', 'gps_height', 'installer', 'basin', 'subvillage', 'population', 'public_meeting', 'scheme_management', 'scheme_name', 'permit', 'construction_year', 'extraction_type', 'payment_type', 'water_quality', 'quantity_group', 'source_type', 'source_class', 'waterpoint_type', ...], ...}\n   2911             finally:\n   2912                 # Reset our crash handler in place\n   2913                 sys.excepthook = old_excepthook\n   2914         except SystemExit as e:\n\n...........................................................................\nD:\\My Documents\\Academic\\UOM\\L4S1\\Data Mining\\Mini Project\\identifying_faulty_pumps\\<ipython-input-27-0605bf83275a> in <module>()\n----> 1 gd_sr.fit(X_train, y_train)\n\n...........................................................................\nC:\\ProgramData\\Anaconda3\\lib\\site-packages\\sklearn\\model_selection\\_search.py in fit(self=GridSearchCV(cv=5, error_score='raise',\n       e...ore='warn',\n       scoring='accuracy', verbose=0), X=array([[   0,  286,    0, ...,    2,    0,    3]...1003,    0, ...,    2,    3,    2]], dtype=int64), y=['non functional', 'functional', 'functional', 'functional', 'functional', 'functional needs repair', 'functional', 'functional', 'non functional', 'non functional', 'non functional', 'non functional', 'functional', 'functional', 'functional', 'functional', 'non functional', 'functional', 'non functional', 'non functional', ...], groups=None, **fit_params={})\n    634                                   return_train_score=self.return_train_score,\n    635                                   return_n_test_samples=True,\n    636                                   return_times=True, return_parameters=False,\n    637                                   error_score=self.error_score)\n    638           for parameters, (train, test) in product(candidate_params,\n--> 639                                                    cv.split(X, y, groups)))\n        cv.split = <bound method StratifiedKFold.split of Stratifie...ld(n_splits=5, random_state=None, shuffle=False)>\n        X = array([[   0,  286,    0, ...,    2,    0,    3]...1003,    0, ...,    2,    3,    2]], dtype=int64)\n        y = ['non functional', 'functional', 'functional', 'functional', 'functional', 'functional needs repair', 'functional', 'functional', 'non functional', 'non functional', 'non functional', 'non functional', 'functional', 'functional', 'functional', 'functional', 'non functional', 'functional', 'non functional', 'non functional', ...]\n        groups = None\n    640 \n    641         # if one choose to see train score, \"out\" will contain train score info\n    642         if self.return_train_score:\n    643             (train_score_dicts, test_score_dicts, test_sample_counts, fit_time,\n\n...........................................................................\nC:\\ProgramData\\Anaconda3\\lib\\site-packages\\sklearn\\externals\\joblib\\parallel.py in __call__(self=Parallel(n_jobs=-1), iterable=<generator object BaseSearchCV.fit.<locals>.<genexpr>>)\n    784             if pre_dispatch == \"all\" or n_jobs == 1:\n    785                 # The iterable was consumed all at once by the above for loop.\n    786                 # No need to wait for async callbacks to trigger to\n    787                 # consumption.\n    788                 self._iterating = False\n--> 789             self.retrieve()\n        self.retrieve = <bound method Parallel.retrieve of Parallel(n_jobs=-1)>\n    790             # Make sure that we get a last message telling us we are done\n    791             elapsed_time = time.time() - self._start_time\n    792             self._print('Done %3i out of %3i | elapsed: %s finished',\n    793                         (len(self._output), len(self._output),\n\n---------------------------------------------------------------------------\nSub-process traceback:\n---------------------------------------------------------------------------\nValueError                                         Thu Jun 27 00:12:56 2019\nPID: 10604                Python 3.6.4: C:\\ProgramData\\Anaconda3\\python.exe\n...........................................................................\nC:\\ProgramData\\Anaconda3\\lib\\site-packages\\sklearn\\externals\\joblib\\parallel.py in __call__(self=<sklearn.externals.joblib.parallel.BatchedCalls object>)\n    126     def __init__(self, iterator_slice):\n    127         self.items = list(iterator_slice)\n    128         self._size = len(self.items)\n    129 \n    130     def __call__(self):\n--> 131         return [func(*args, **kwargs) for func, args, kwargs in self.items]\n        self.items = [(<function _fit_and_score>, (RandomForestClassifier(bootstrap=True, class_wei...rue, random_state=1, verbose=0, warm_start=False), memmap([[   0,  286,    0, ...,    2,    0,    3...1003,    0, ...,    2,    3,    2]], dtype=int64), ['non functional', 'functional', 'functional', 'functional', 'functional', 'functional needs repair', 'functional', 'functional', 'non functional', 'non functional', 'non functional', 'non functional', 'functional', 'functional', 'functional', 'functional', 'non functional', 'functional', 'non functional', 'non functional', ...], {'score': make_scorer(accuracy_score)}, array([    0,     1,     2, ..., 41577, 41578, 41579]), array([16543, 16546, 16547, ..., 25243, 25244, 25287]), 0, {'criterion': 'entropy', 'max_features': 'auto', 'min_samples_split': 15, 'n_estimators': 800}), {'error_score': 'raise', 'fit_params': {}, 'return_n_test_samples': True, 'return_parameters': False, 'return_times': True, 'return_train_score': 'warn'})]\n    132 \n    133     def __len__(self):\n    134         return self._size\n    135 \n\n...........................................................................\nC:\\ProgramData\\Anaconda3\\lib\\site-packages\\sklearn\\externals\\joblib\\parallel.py in <listcomp>(.0=<list_iterator object>)\n    126     def __init__(self, iterator_slice):\n    127         self.items = list(iterator_slice)\n    128         self._size = len(self.items)\n    129 \n    130     def __call__(self):\n--> 131         return [func(*args, **kwargs) for func, args, kwargs in self.items]\n        func = <function _fit_and_score>\n        args = (RandomForestClassifier(bootstrap=True, class_wei...rue, random_state=1, verbose=0, warm_start=False), memmap([[   0,  286,    0, ...,    2,    0,    3...1003,    0, ...,    2,    3,    2]], dtype=int64), ['non functional', 'functional', 'functional', 'functional', 'functional', 'functional needs repair', 'functional', 'functional', 'non functional', 'non functional', 'non functional', 'non functional', 'functional', 'functional', 'functional', 'functional', 'non functional', 'functional', 'non functional', 'non functional', ...], {'score': make_scorer(accuracy_score)}, array([    0,     1,     2, ..., 41577, 41578, 41579]), array([16543, 16546, 16547, ..., 25243, 25244, 25287]), 0, {'criterion': 'entropy', 'max_features': 'auto', 'min_samples_split': 15, 'n_estimators': 800})\n        kwargs = {'error_score': 'raise', 'fit_params': {}, 'return_n_test_samples': True, 'return_parameters': False, 'return_times': True, 'return_train_score': 'warn'}\n    132 \n    133     def __len__(self):\n    134         return self._size\n    135 \n\n...........................................................................\nC:\\ProgramData\\Anaconda3\\lib\\site-packages\\sklearn\\model_selection\\_validation.py in _fit_and_score(estimator=RandomForestClassifier(bootstrap=True, class_wei...rue, random_state=1, verbose=0, warm_start=False), X=memmap([[   0,  286,    0, ...,    2,    0,    3...1003,    0, ...,    2,    3,    2]], dtype=int64), y=['non functional', 'functional', 'functional', 'functional', 'functional', 'functional needs repair', 'functional', 'functional', 'non functional', 'non functional', 'non functional', 'non functional', 'functional', 'functional', 'functional', 'functional', 'non functional', 'functional', 'non functional', 'non functional', ...], scorer={'score': make_scorer(accuracy_score)}, train=array([    0,     1,     2, ..., 41577, 41578, 41579]), test=array([16543, 16546, 16547, ..., 25243, 25244, 25287]), verbose=0, parameters={'criterion': 'entropy', 'max_features': 'auto', 'min_samples_split': 15, 'n_estimators': 800}, fit_params={}, return_train_score='warn', return_parameters=False, return_n_test_samples=True, return_times=True, error_score='raise')\n    453 \n    454     try:\n    455         if y_train is None:\n    456             estimator.fit(X_train, **fit_params)\n    457         else:\n--> 458             estimator.fit(X_train, y_train, **fit_params)\n        estimator.fit = <bound method BaseForest.fit of RandomForestClas...ue, random_state=1, verbose=0, warm_start=False)>\n        X_train = memmap([[   0,  286,    0, ...,    2,    0,    3...1003,    0, ...,    2,    3,    2]], dtype=int64)\n        y_train = ['non functional', 'functional', 'functional', 'functional', 'functional', 'functional needs repair', 'functional', 'functional', 'non functional', 'non functional', 'non functional', 'non functional', 'functional', 'functional', 'functional', 'functional', 'non functional', 'functional', 'non functional', 'non functional', ...]\n        fit_params = {}\n    459 \n    460     except Exception as e:\n    461         # Note fit time as time until error\n    462         fit_time = time.time() - start_time\n\n...........................................................................\nC:\\ProgramData\\Anaconda3\\lib\\site-packages\\sklearn\\ensemble\\forest.py in fit(self=RandomForestClassifier(bootstrap=True, class_wei...rue, random_state=1, verbose=0, warm_start=False), X=array([[0.000e+00, 2.860e+02, 0.000e+00, ..., 2....0, 3.000e+00,\n        2.000e+00]], dtype=float32), y=array([[2.],\n       [0.],\n       [0.],\n       ...,\n       [0.],\n       [2.],\n       [2.]]), sample_weight=None)\n    329 \n    330             # Collect newly grown trees\n    331             self.estimators_.extend(trees)\n    332 \n    333         if self.oob_score:\n--> 334             self._set_oob_score(X, y)\n        self._set_oob_score = <bound method ForestClassifier._set_oob_score of...ue, random_state=1, verbose=0, warm_start=False)>\n        X = array([[0.000e+00, 2.860e+02, 0.000e+00, ..., 2....0, 3.000e+00,\n        2.000e+00]], dtype=float32)\n        y = array([[2.],\n       [0.],\n       [0.],\n       ...,\n       [0.],\n       [2.],\n       [2.]])\n    335 \n    336         # Decapsulate classes_ attributes\n    337         if hasattr(self, \"classes_\") and self.n_outputs_ == 1:\n    338             self.n_classes_ = self.n_classes_[0]\n\n...........................................................................\nC:\\ProgramData\\Anaconda3\\lib\\site-packages\\sklearn\\ensemble\\forest.py in _set_oob_score(self=RandomForestClassifier(bootstrap=True, class_wei...rue, random_state=1, verbose=0, warm_start=False), X=array([[0.000e+00, 2.860e+02, 0.000e+00, ..., 2....0, 3.000e+00,\n        2.000e+00]], dtype=float32), y=array([[2.],\n       [0.],\n       [0.],\n       ...,\n       [0.],\n       [2.],\n       [2.]]))\n    444 \n    445             if self.n_outputs_ == 1:\n    446                 p_estimator = [p_estimator]\n    447 \n    448             for k in range(self.n_outputs_):\n--> 449                 predictions[k][unsampled_indices, :] += p_estimator[k]\n        predictions = [array([[  8.2261757 ,   0.53043478, 220.24338952...     [  5.11993781,   0.56944444, 209.31061774]])]\n        k = 0\n        unsampled_indices = array([    3,     7,     9, ..., 33251, 33252, 33255])\n        p_estimator = [array([[0.84210526, 0.        , 0.        , 0.  ...0.06666667, 0.53333333, 0.        , 0.33333333]])]\n    450 \n    451         for k in range(self.n_outputs_):\n    452             if (predictions[k].sum(axis=1) == 0).any():\n    453                 warn(\"Some inputs do not have OOB scores. \"\n\nValueError: operands could not be broadcast together with shapes (12294,3) (12294,5) (12294,3) \n___________________________________________________________________________"
     ]
    }
   ],
   "source": [
    "gd_sr.fit(X_train, y_train)"
   ]
  },
  {
   "cell_type": "code",
   "execution_count": 29,
   "metadata": {
    "scrolled": true
   },
   "outputs": [
    {
     "ename": "AttributeError",
     "evalue": "'GridSearchCV' object has no attribute 'best_params_'",
     "output_type": "error",
     "traceback": [
      "\u001b[1;31m---------------------------------------------------------------------------\u001b[0m",
      "\u001b[1;31mAttributeError\u001b[0m                            Traceback (most recent call last)",
      "\u001b[1;32m<ipython-input-29-4e0bf67736d1>\u001b[0m in \u001b[0;36m<module>\u001b[1;34m()\u001b[0m\n\u001b[1;32m----> 1\u001b[1;33m \u001b[0mbest_parameters\u001b[0m \u001b[1;33m=\u001b[0m \u001b[0mgd_sr\u001b[0m\u001b[1;33m.\u001b[0m\u001b[0mbest_params_\u001b[0m\u001b[1;33m\u001b[0m\u001b[0m\n\u001b[0m\u001b[0;32m      2\u001b[0m \u001b[0mprint\u001b[0m\u001b[1;33m(\u001b[0m\u001b[0mbest_parameters\u001b[0m\u001b[1;33m)\u001b[0m\u001b[1;33m\u001b[0m\u001b[0m\n",
      "\u001b[1;31mAttributeError\u001b[0m: 'GridSearchCV' object has no attribute 'best_params_'"
     ]
    }
   ],
   "source": [
    "best_parameters = gd_sr.best_params_  \n",
    "print(best_parameters)  "
   ]
  },
  {
   "cell_type": "code",
   "execution_count": 30,
   "metadata": {},
   "outputs": [
    {
     "ename": "AttributeError",
     "evalue": "'GridSearchCV' object has no attribute 'best_score_'",
     "output_type": "error",
     "traceback": [
      "\u001b[1;31m---------------------------------------------------------------------------\u001b[0m",
      "\u001b[1;31mAttributeError\u001b[0m                            Traceback (most recent call last)",
      "\u001b[1;32m<ipython-input-30-850a4eec4695>\u001b[0m in \u001b[0;36m<module>\u001b[1;34m()\u001b[0m\n\u001b[1;32m----> 1\u001b[1;33m \u001b[0mbest_result\u001b[0m \u001b[1;33m=\u001b[0m \u001b[0mgd_sr\u001b[0m\u001b[1;33m.\u001b[0m\u001b[0mbest_score_\u001b[0m\u001b[1;33m\u001b[0m\u001b[0m\n\u001b[0m\u001b[0;32m      2\u001b[0m \u001b[0mprint\u001b[0m\u001b[1;33m(\u001b[0m\u001b[0mbest_result\u001b[0m\u001b[1;33m)\u001b[0m\u001b[1;33m\u001b[0m\u001b[0m\n",
      "\u001b[1;31mAttributeError\u001b[0m: 'GridSearchCV' object has no attribute 'best_score_'"
     ]
    }
   ],
   "source": [
    "best_result = gd_sr.best_score_  \n",
    "print(best_result)"
   ]
  },
  {
   "cell_type": "markdown",
   "metadata": {
    "collapsed": true
   },
   "source": [
    "## Predictions"
   ]
  },
  {
   "cell_type": "code",
   "execution_count": null,
   "metadata": {},
   "outputs": [],
   "source": [
    "predict = rfc.predict(test)"
   ]
  },
  {
   "cell_type": "code",
   "execution_count": null,
   "metadata": {},
   "outputs": [],
   "source": [
    "submission = pd.read_csv('SubmissionFormat.csv')"
   ]
  },
  {
   "cell_type": "code",
   "execution_count": null,
   "metadata": {},
   "outputs": [],
   "source": [
    "Final_merge = pd.concat([test, submission], axis=1)"
   ]
  },
  {
   "cell_type": "code",
   "execution_count": null,
   "metadata": {},
   "outputs": [],
   "source": [
    "Final_merge.head()"
   ]
  },
  {
   "cell_type": "code",
   "execution_count": null,
   "metadata": {},
   "outputs": [],
   "source": [
    "Final_merge['status_group'] = predict"
   ]
  },
  {
   "cell_type": "code",
   "execution_count": null,
   "metadata": {},
   "outputs": [],
   "source": [
    "Final_merge[['id','status_group']].to_csv('Prediction.csv', index=False)"
   ]
  },
  {
   "cell_type": "code",
   "execution_count": null,
   "metadata": {},
   "outputs": [],
   "source": [
    "sub = pd.read_csv('Prediction.csv')"
   ]
  },
  {
   "cell_type": "code",
   "execution_count": null,
   "metadata": {},
   "outputs": [],
   "source": [
    "sub.head()"
   ]
  },
  {
   "cell_type": "code",
   "execution_count": null,
   "metadata": {},
   "outputs": [],
   "source": [
    "sub.status_group.value_counts()"
   ]
  }
 ],
 "metadata": {
  "kernelspec": {
   "display_name": "Python 3",
   "language": "python",
   "name": "python3"
  },
  "language_info": {
   "codemirror_mode": {
    "name": "ipython",
    "version": 3
   },
   "file_extension": ".py",
   "mimetype": "text/x-python",
   "name": "python",
   "nbconvert_exporter": "python",
   "pygments_lexer": "ipython3",
   "version": "3.6.4"
  }
 },
 "nbformat": 4,
 "nbformat_minor": 1
}
